{
  "nbformat": 4,
  "nbformat_minor": 0,
  "metadata": {
    "colab": {
      "provenance": [],
      "authorship_tag": "ABX9TyP/bsV2ph5vsFfj1xdIyli4",
      "include_colab_link": true
    },
    "kernelspec": {
      "name": "python3",
      "display_name": "Python 3"
    },
    "language_info": {
      "name": "python"
    }
  },
  "cells": [
    {
      "cell_type": "markdown",
      "metadata": {
        "id": "view-in-github",
        "colab_type": "text"
      },
      "source": [
        "<a href=\"https://colab.research.google.com/github/Ananya-Ahuja/Anomalies/blob/main/mac_ip_mismatch_dataset.ipynb\" target=\"_parent\"><img src=\"https://colab.research.google.com/assets/colab-badge.svg\" alt=\"Open In Colab\"/></a>"
      ]
    },
    {
      "cell_type": "markdown",
      "source": [
        "# Mac-IP Mismatch Dataset"
      ],
      "metadata": {
        "id": "Jked-TF4sw17"
      }
    },
    {
      "cell_type": "markdown",
      "source": [
        "## DHCP Lease Records"
      ],
      "metadata": {
        "id": "q5gZZYxttSIl"
      }
    },
    {
      "cell_type": "code",
      "execution_count": 1,
      "metadata": {
        "id": "PWTM_1itdga3"
      },
      "outputs": [],
      "source": [
        "import pandas as pd\n",
        "import random\n",
        "from datetime import datetime, timedelta\n",
        "import ipaddress"
      ]
    },
    {
      "cell_type": "markdown",
      "source": [
        "### Helper Functions for creating the columns of the dataset"
      ],
      "metadata": {
        "id": "VnR90gh6soqt"
      }
    },
    {
      "cell_type": "code",
      "source": [
        "def random_ip():\n",
        "    return f\"192.168.1.{random.randint(1, 50)}\""
      ],
      "metadata": {
        "id": "1D8Sn5adsYCY"
      },
      "execution_count": 2,
      "outputs": []
    },
    {
      "cell_type": "code",
      "source": [
        "def random_mac():\n",
        "    return ':'.join(f'{random.randint(0, 255):02x}' for _ in range(6))"
      ],
      "metadata": {
        "id": "1qBdTgQOsaN-"
      },
      "execution_count": 3,
      "outputs": []
    },
    {
      "cell_type": "code",
      "source": [
        "def random_port():\n",
        "    return random.randint(1, 65535)"
      ],
      "metadata": {
        "id": "EiwBDmi1sdLj"
      },
      "execution_count": 4,
      "outputs": []
    },
    {
      "cell_type": "code",
      "source": [
        "def random_protocol():\n",
        "    return random.choice(['TCP', 'UDP', 'ICMP'])"
      ],
      "metadata": {
        "id": "GxPZ_41Pseqm"
      },
      "execution_count": 5,
      "outputs": []
    },
    {
      "cell_type": "code",
      "source": [
        "def random_action():\n",
        "    return random.choice(['allow', 'deny', 'drop', 'reset'])"
      ],
      "metadata": {
        "id": "PWLeqcuPsgDr"
      },
      "execution_count": 6,
      "outputs": []
    },
    {
      "cell_type": "code",
      "source": [
        "def random_bytes():\n",
        "    return random.randint(40, 1500)"
      ],
      "metadata": {
        "id": "x3iIa-NUshr1"
      },
      "execution_count": 7,
      "outputs": []
    },
    {
      "cell_type": "markdown",
      "source": [
        "### Main Function of Dataset Generator"
      ],
      "metadata": {
        "id": "Zb7aIr_ys4By"
      }
    },
    {
      "cell_type": "code",
      "source": [
        "def generate_dhcp_leases(num_leases=200):\n",
        "    data = []\n",
        "    base_time = datetime.now() - timedelta(days=30)\n",
        "    macs = [random_mac() for _ in range(50)]  # 50 unique devices\n",
        "    for i in range(num_leases):\n",
        "        mac = random.choice(macs)\n",
        "        ip = random_ip()\n",
        "        lease_start = base_time + timedelta(hours=random.randint(0, 700))\n",
        "        lease_duration = timedelta(hours=random.randint(1, 72))\n",
        "        lease_end = lease_start + lease_duration\n",
        "        hostname = f\"host-{random.randint(1000,9999)}\"\n",
        "        data.append({\n",
        "            'MAC Address': mac,\n",
        "            'IP Address': ip,\n",
        "            'Lease Start': lease_start.isoformat(),\n",
        "            'Lease End': lease_end.isoformat(),\n",
        "            'Hostname': hostname\n",
        "        })\n",
        "    df = pd.DataFrame(data)\n",
        "    return df"
      ],
      "metadata": {
        "id": "s8SjFhGFtu1n"
      },
      "execution_count": 8,
      "outputs": []
    },
    {
      "cell_type": "code",
      "source": [
        "dhcp_df = generate_dhcp_leases(200)\n",
        "dhcp_df.to_csv('dhcp_lease_records.csv', index=False)\n",
        "print(\"DHCP lease records saved to dhcp_lease_records.csv\")"
      ],
      "metadata": {
        "colab": {
          "base_uri": "https://localhost:8080/"
        },
        "id": "2c5j0vBtt11m",
        "outputId": "5b176592-b838-475b-f791-d07d07f05a26"
      },
      "execution_count": 9,
      "outputs": [
        {
          "output_type": "stream",
          "name": "stdout",
          "text": [
            "DHCP lease records saved to dhcp_lease_records.csv\n"
          ]
        }
      ]
    },
    {
      "cell_type": "markdown",
      "source": [
        "## Enhanced Firewall Log with MAC Address"
      ],
      "metadata": {
        "id": "TrUbpXV-tO-h"
      }
    },
    {
      "cell_type": "markdown",
      "source": [
        "### Helper functions for generating the columns"
      ],
      "metadata": {
        "id": "VQW5pop9ti25"
      }
    },
    {
      "cell_type": "code",
      "source": [
        "# Helper functions are same as above"
      ],
      "metadata": {
        "id": "mfS2ZTcv6g1L"
      },
      "execution_count": 10,
      "outputs": []
    },
    {
      "cell_type": "code",
      "source": [
        "def generate_firewall_log_with_mac(dhcp_df, num_records=1000, anomaly_ratio=0.1):\n",
        "    data = []\n",
        "    # Build lease lookup: {ip: [(start, end, mac), ...]}\n",
        "    lease_dict = {}\n",
        "    for _, row in dhcp_df.iterrows():\n",
        "        ip = row['IP Address']\n",
        "        mac = row['MAC Address']\n",
        "        lease_start = datetime.fromisoformat(row['Lease Start'])\n",
        "        lease_end = datetime.fromisoformat(row['Lease End'])\n",
        "        lease_dict.setdefault(ip, []).append((lease_start, lease_end, mac))\n",
        "    all_macs = list(dhcp_df['MAC Address'].unique())\n",
        "    all_ips = list(dhcp_df['IP Address'].unique())\n",
        "    base_time = datetime.now()\n",
        "    for i in range(num_records):\n",
        "        timestamp = base_time + timedelta(seconds=i * 10)\n",
        "        # Pick a random IP with at least one lease\n",
        "        ip = random.choice(all_ips)\n",
        "        leases = lease_dict[ip]\n",
        "        # Find a lease covering this timestamp, or pick any if none match\n",
        "        lease = None\n",
        "        for l in leases:\n",
        "            if l[0] <= timestamp <= l[1]:\n",
        "                lease = l\n",
        "                break\n",
        "        if not lease:\n",
        "            lease = random.choice(leases)\n",
        "        expected_mac = lease[2]\n",
        "        # Decide if this record is an anomaly\n",
        "        if random.random() < anomaly_ratio:\n",
        "            # Anomaly: assign a MAC that is NOT the expected one\n",
        "            anomaly_mac = random.choice([m for m in all_macs if m != expected_mac])\n",
        "            src_mac = anomaly_mac\n",
        "            is_anomaly = True\n",
        "        else:\n",
        "            src_mac = expected_mac\n",
        "            is_anomaly = False\n",
        "        # Fill in the rest of the fields\n",
        "        dst_ip = random.choice(all_ips)\n",
        "        dst_mac = random.choice(all_macs)\n",
        "        src_port = random.randint(1024, 65535)\n",
        "        dst_port = random.randint(1, 65535)\n",
        "        protocol = random.choice(['TCP', 'UDP', 'ICMP'])\n",
        "        action = random.choice(['allow', 'deny', 'drop', 'reset'])\n",
        "        bytes_sent = random.randint(40, 1500)\n",
        "        data.append({\n",
        "            'Timestamp': timestamp.isoformat(),\n",
        "            'Source IP': ip,\n",
        "            'Destination IP': dst_ip,\n",
        "            'Source Port': src_port,\n",
        "            'Destination Port': dst_port,\n",
        "            'Protocol': protocol,\n",
        "            'Action': action,\n",
        "            'Bytes': bytes_sent,\n",
        "            'Source MAC': src_mac,\n",
        "            'Destination MAC': dst_mac,\n",
        "            'Is Anomaly': is_anomaly  # For validation/testing only\n",
        "        })\n",
        "    df = pd.DataFrame(data)\n",
        "    return df"
      ],
      "metadata": {
        "id": "boV9RB3esj4-"
      },
      "execution_count": 11,
      "outputs": []
    },
    {
      "cell_type": "code",
      "source": [
        "firewall_df = generate_firewall_log_with_mac(dhcp_df, num_records=1000, anomaly_ratio=0.1)\n",
        "firewall_df.to_csv('enhanced_firewall_log_with_mac.csv', index=False)\n",
        "print(\"Enhanced firewall log saved to enhanced_firewall_log_with_mac.csv\")"
      ],
      "metadata": {
        "colab": {
          "base_uri": "https://localhost:8080/"
        },
        "id": "TQOquSzRsnk6",
        "outputId": "649cb2f6-e63e-4b22-944c-186a649ced88"
      },
      "execution_count": 12,
      "outputs": [
        {
          "output_type": "stream",
          "name": "stdout",
          "text": [
            "Enhanced firewall log saved to enhanced_firewall_log_with_mac.csv\n"
          ]
        }
      ]
    }
  ]
}