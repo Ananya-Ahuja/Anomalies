{
  "nbformat": 4,
  "nbformat_minor": 0,
  "metadata": {
    "colab": {
      "provenance": [],
      "authorship_tag": "ABX9TyPpiCh1qlOkChDL0FRtnZzY",
      "include_colab_link": true
    },
    "kernelspec": {
      "name": "python3",
      "display_name": "Python 3"
    },
    "language_info": {
      "name": "python"
    }
  },
  "cells": [
    {
      "cell_type": "markdown",
      "metadata": {
        "id": "view-in-github",
        "colab_type": "text"
      },
      "source": [
        "<a href=\"https://colab.research.google.com/github/Ananya-Ahuja/Anomalyze/blob/ananya_ahuja/Enterprise_secuity_ipdr.ipynb\" target=\"_parent\"><img src=\"https://colab.research.google.com/assets/colab-badge.svg\" alt=\"Open In Colab\"/></a>"
      ]
    },
    {
      "cell_type": "code",
      "execution_count": 2,
      "metadata": {
        "id": "Y0h-vZbUATb7"
      },
      "outputs": [],
      "source": [
        "import pandas as pd\n",
        "import numpy as np\n",
        "import random\n",
        "from datetime import datetime, timedelta\n",
        "import pytz"
      ]
    },
    {
      "cell_type": "code",
      "source": [
        "# Timezone for India\n",
        "IST = pytz.timezone('Asia/Kolkata')\n",
        "\n",
        "def get_enterprise_time_pattern(start_dt, duration_days):\n",
        "    \"\"\"\n",
        "    Generate enterprise network usage time patterns:\n",
        "    - Core business hours: 8 AM–8 PM (80% of sessions)\n",
        "    - Off-hours maintenance/updates: 8 PM–12 AM & 5 AM–8 AM (15%)\n",
        "    - Odd anomalies: 12 AM–5 AM (5%)\n",
        "    \"\"\"\n",
        "    core = list(range(8, 20))\n",
        "    off = list(range(20, 24)) + list(range(5, 8))\n",
        "    odd = list(range(0, 5))\n",
        "    r = random.random()\n",
        "    if r < 0.80:\n",
        "        hour = random.choice(core)\n",
        "    elif r < 0.95:\n",
        "        hour = random.choice(off)\n",
        "    else:\n",
        "        hour = random.choice(odd)\n",
        "    day_offset = random.randint(0, duration_days - 1)\n",
        "    base = start_dt + timedelta(days=day_offset)\n",
        "    minute, second = random.randint(0, 59), random.randint(0, 59)\n",
        "    return IST.localize(base.replace(hour=hour, minute=minute, second=second))"
      ],
      "metadata": {
        "id": "UOb8GlEHA1t-"
      },
      "execution_count": 3,
      "outputs": []
    },
    {
      "cell_type": "code",
      "source": [
        "def generate_enterprise_src_ip(department):\n",
        "    \"\"\"\n",
        "    Generate enterprise private IPs by department subnet:\n",
        "    - Dept A: 10.10.x.x, Dept B: 10.20.x.x, Dept C: 10.30.x.x, Dept D: 10.40.x.x\n",
        "    \"\"\"\n",
        "    base = {\"A\": \"10.10\", \"B\": \"10.20\", \"C\": \"10.30\", \"D\": \"10.40\"}[department]\n",
        "    return f\"{base}.{random.randint(1,254)}.{random.randint(1,254)}\""
      ],
      "metadata": {
        "id": "MJ5rfz_5A9gL"
      },
      "execution_count": 4,
      "outputs": []
    },
    {
      "cell_type": "code",
      "source": [
        "def generate_public_dest_ip(service_type):\n",
        "    \"\"\"\n",
        "    Realistic public IPs for enterprise external services:\n",
        "    - SaaS (Office365, Salesforce): 52.x.x.x, 40.x.x.x\n",
        "    - Cloud infra: 34.x.x.x, 13.x.x.x\n",
        "    - Partner/VPN: 172.27.2.x\n",
        "    \"\"\"\n",
        "    ranges = {\n",
        "        \"saas\": [\"52.{}.{}.{}\", \"40.{}.{}.{}\"],\n",
        "        \"cloud\": [\"34.{}.{}.{}\", \"13.{}.{}.{}\"],\n",
        "        \"vpn_partner\": [\"172.27.2.{}\"]\n",
        "    }\n",
        "    tpl = random.choice(ranges[service_type])\n",
        "    parts = [random.randint(1,254) for _ in range(tpl.count(\"{}\"))]\n",
        "    return tpl.format(*parts)"
      ],
      "metadata": {
        "id": "FmEpAdBxBASn"
      },
      "execution_count": 5,
      "outputs": []
    },
    {
      "cell_type": "code",
      "source": [
        "def inject_enterprise_anomalies(records, anomaly_ratio=0.05):\n",
        "    \"\"\"\n",
        "    Inject enterprise anomalies:\n",
        "    - lateral_movement: src_ip changes within same account rapidly\n",
        "    - privilege_escalation: unusual service access (cloud→ vpn_partner)\n",
        "    - data_exfiltration: high uplink volumes to external IPs\n",
        "    - insider_threat: off-hour sessions from admin subnet\n",
        "    \"\"\"\n",
        "    n = int(len(records)*anomaly_ratio)\n",
        "    idxs = random.sample(range(len(records)), n)\n",
        "    for i in idxs:\n",
        "        rec = records[i]\n",
        "        rec['is_anomaly'] = 1\n",
        "        typ = random.choice([\n",
        "            'lateral_movement',\n",
        "            'privilege_escalation',\n",
        "            'data_exfiltration',\n",
        "            'insider_threat'\n",
        "        ])\n",
        "        rec['anomaly_type'] = typ\n",
        "        if typ == 'lateral_movement':\n",
        "            # same account, new src_ip from different dept\n",
        "            dept = random.choice(['A','B','C','D'])\n",
        "            rec['src_ip'] = generate_enterprise_src_ip(dept)\n",
        "        elif typ == 'privilege_escalation':\n",
        "            rec['dest_ip'] = generate_public_dest_ip('vpn_partner')\n",
        "            rec['dest_port'] = random.choice([1194,443])\n",
        "        elif typ == 'data_exfiltration':\n",
        "            rec['uplink_volume'] *= 20\n",
        "        elif typ == 'insider_threat':\n",
        "            # off-hours\n",
        "            t = datetime.strptime(rec['start_time'], \"%Y-%m-%d %H:%M:%S\")\n",
        "            new = t.replace(hour=random.choice(range(0,5)))\n",
        "            rec['start_time'] = new.strftime(\"%Y-%m-%d %H:%M:%S\")\n",
        "            rec['end_time'] = (new + timedelta(seconds=rec['session_duration'])).strftime(\"%Y-%m-%d %H:%M:%S\")\n",
        "    return records"
      ],
      "metadata": {
        "id": "DRcK1BOrBKNp"
      },
      "execution_count": 6,
      "outputs": []
    },
    {
      "cell_type": "code",
      "source": [
        "def generate_enterprise_security_ipdr_dataset(\n",
        "    num_records=10000,\n",
        "    start_date=\"2024-01-01\",\n",
        "    duration_days=30,\n",
        "    seed=42\n",
        "):\n",
        "    \"\"\"\n",
        "    Generate Enterprise Security Monitoring IPDR dataset:\n",
        "    - Mix of departments (A–D)\n",
        "    - Mix of internal (intranet) and external (SaaS, cloud, VPN) sessions\n",
        "    - Standard IPDR fields + department, user_account, device_id\n",
        "    - 5% labeled anomalies of four types\n",
        "    \"\"\"\n",
        "    random.seed(seed)\n",
        "    np.random.seed(seed)\n",
        "    start_dt = datetime.strptime(start_date, \"%Y-%m-%d\")\n",
        "\n",
        "    departments = ['A','B','C','D']\n",
        "    service_map = {\n",
        "        \"internal\": {\"type\":\"internal\",\"ports\":[80,443],\"service\":\"intranet\"},\n",
        "        \"saas\": {\"type\":\"saas\",\"ports\":[443],\"service\":\"saas\"},\n",
        "        \"cloud\": {\"type\":\"cloud\",\"ports\":[443],\"service\":\"cloud\"},\n",
        "        \"vpn_partner\": {\"type\":\"vpn_partner\",\"ports\":[1194,443],\"service\":\"vpn\"}\n",
        "    }\n",
        "    records = []\n",
        "    for _ in range(num_records):\n",
        "        dept = random.choice(departments)\n",
        "        src_ip = generate_enterprise_src_ip(dept)\n",
        "        account = f\"user_{dept}_{random.randint(1,200)}\"\n",
        "        device = f\"device_{dept}_{random.randint(1,500)}\"\n",
        "\n",
        "        svc_key = random.choices(\n",
        "            list(service_map.keys()),\n",
        "            weights=[0.5,0.2,0.2,0.1]\n",
        "        )[0]\n",
        "        svc = service_map[svc_key]\n",
        "        dest_ip = (generate_public_dest_ip(svc_key)\n",
        "                   if svc_key!=\"internal\"\n",
        "                   else f\"10.{dept}0.{random.randint(1,254)}.{random.randint(1,254)}\")\n",
        "        start_time = get_enterprise_time_pattern(start_dt,duration_days)\n",
        "        dur = random.randint(60,7200)  # 1 min–2 h\n",
        "        end_time = start_time + timedelta(seconds=dur)\n",
        "        uplink = random.randint(1000,200000)    # 1 KB–200 KB\n",
        "        downlink = random.randint(1000,500000)  # 1 KB–500 KB\n",
        "\n",
        "        rec = {\n",
        "            \"department\": dept,\n",
        "            \"user_account\": account,\n",
        "            \"device_id\": device,\n",
        "            \"src_ip\": src_ip,\n",
        "            \"src_port\": random.randint(1024,65535),\n",
        "            \"dest_ip\": dest_ip,\n",
        "            \"dest_port\": random.choice(svc[\"ports\"]),\n",
        "            \"protocol\": \"TCP\",\n",
        "            \"start_time\": start_time.strftime(\"%Y-%m-%d %H:%M:%S\"),\n",
        "            \"end_time\": end_time.strftime(\"%Y-%m-%d %H:%M:%S\"),\n",
        "            \"session_duration\": dur,\n",
        "            \"uplink_volume\": uplink,\n",
        "            \"downlink_volume\": downlink,\n",
        "            \"total_volume\": uplink+downlink,\n",
        "            \"is_anomaly\": 0,\n",
        "            \"anomaly_type\": \"normal\"\n",
        "        }\n",
        "        records.append(rec)\n",
        "\n",
        "    records = inject_enterprise_anomalies(records, anomaly_ratio=0.05)\n",
        "    df = pd.DataFrame(records)\n",
        "    # Derived features\n",
        "    df['bytes_per_second'] = df['total_volume']/df['session_duration'].replace(0,1)\n",
        "    df['hour'] = pd.to_datetime(df['start_time']).dt.hour\n",
        "    df['is_core_hours'] = df['hour'].between(8,19).astype(int)\n",
        "    df['is_weekend'] = (pd.to_datetime(df['start_time']).dt.dayofweek>=5).astype(int)\n",
        "    df['internal_flag'] = (df['dest_ip'].str.startswith(\"10.\")).astype(int)\n",
        "    return df\n",
        "\n",
        "if __name__ == \"__main__\":\n",
        "    df_ent = generate_enterprise_security_ipdr_dataset()\n",
        "    print(\"=== ENTERPRISE SECURITY MONITORING IPDR DATASET ===\")\n",
        "    print(f\"Records: {len(df_ent)}, Anomalies: {df_ent['is_anomaly'].sum()} ({df_ent['is_anomaly'].mean()*100:.1f}%)\")\n",
        "    print(\"Columns:\", df_ent.columns.tolist())\n",
        "    df_ent.to_csv(\"enterprise_security_ipdr_dataset.csv\",index=False)"
      ],
      "metadata": {
        "colab": {
          "base_uri": "https://localhost:8080/"
        },
        "id": "Qp2cA1Q4BNgC",
        "outputId": "a1b5aadd-4a1d-48e5-91f8-367abf596fdb"
      },
      "execution_count": 7,
      "outputs": [
        {
          "output_type": "stream",
          "name": "stdout",
          "text": [
            "=== ENTERPRISE SECURITY MONITORING IPDR DATASET ===\n",
            "Records: 10000, Anomalies: 500 (5.0%)\n",
            "Columns: ['department', 'user_account', 'device_id', 'src_ip', 'src_port', 'dest_ip', 'dest_port', 'protocol', 'start_time', 'end_time', 'session_duration', 'uplink_volume', 'downlink_volume', 'total_volume', 'is_anomaly', 'anomaly_type', 'bytes_per_second', 'hour', 'is_core_hours', 'is_weekend', 'internal_flag']\n"
          ]
        }
      ]
    },
    {
      "cell_type": "code",
      "source": [],
      "metadata": {
        "id": "CQPRyV3lBRVs"
      },
      "execution_count": null,
      "outputs": []
    }
  ]
}