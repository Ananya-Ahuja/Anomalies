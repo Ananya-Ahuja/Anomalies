{
  "nbformat": 4,
  "nbformat_minor": 0,
  "metadata": {
    "colab": {
      "provenance": [],
      "authorship_tag": "ABX9TyN+mHNqurEjG3lN86qPeJDl",
      "include_colab_link": true
    },
    "kernelspec": {
      "name": "python3",
      "display_name": "Python 3"
    },
    "language_info": {
      "name": "python"
    }
  },
  "cells": [
    {
      "cell_type": "markdown",
      "metadata": {
        "id": "view-in-github",
        "colab_type": "text"
      },
      "source": [
        "<a href=\"https://colab.research.google.com/github/Ananya-Ahuja/Anomalyze/blob/ananya_ahuja/Data_transfer_patterns_2_0.ipynb\" target=\"_parent\"><img src=\"https://colab.research.google.com/assets/colab-badge.svg\" alt=\"Open In Colab\"/></a>"
      ]
    },
    {
      "cell_type": "code",
      "execution_count": 1,
      "metadata": {
        "id": "aA_aIazgPDlA"
      },
      "outputs": [],
      "source": [
        "import pandas as pd\n",
        "import numpy as np\n",
        "import glob\n",
        "import matplotlib.pyplot as plt\n",
        "import warnings\n",
        "\n",
        "from sklearn.preprocessing import StandardScaler\n",
        "from sklearn.model_selection import StratifiedKFold, train_test_split\n",
        "from sklearn.ensemble import IsolationForest\n",
        "from sklearn.cluster import KMeans\n",
        "from sklearn.svm import OneClassSVM\n",
        "from sklearn.metrics import (\n",
        "    precision_recall_curve, accuracy_score, precision_score,\n",
        "    recall_score, f1_score, pairwise_distances_argmin_min\n",
        ")\n",
        "from imblearn.over_sampling import SMOTE\n",
        "from tensorflow.keras import layers, models\n",
        "\n",
        "warnings.filterwarnings('ignore')"
      ]
    },
    {
      "cell_type": "code",
      "source": [
        "def load_and_combine(data_folder):\n",
        "    combined_cols = [\n",
        "        'uplink_volume', 'downlink_volume', 'total_volume',\n",
        "        'session_duration', 'bytes_per_second', 'uplink_ratio', 'is_anomaly'\n",
        "    ]\n",
        "    transfer_cols = combined_cols[:-1]\n",
        "    df_list = []\n",
        "\n",
        "    for f in glob.glob(data_folder + '*.csv'):\n",
        "        df = pd.read_csv(f, low_memory=False)\n",
        "        # Keep only the columns that exist in this file\n",
        "        cols = [c for c in combined_cols if c in df.columns]\n",
        "        df = df[cols]\n",
        "        # Add missing transfer columns\n",
        "        for c in transfer_cols:\n",
        "            if c not in df.columns:\n",
        "                df[c] = pd.NA\n",
        "        # Reorder columns to match combined_cols\n",
        "        df = df[combined_cols]\n",
        "        df_list.append(df)\n",
        "\n",
        "    combined_df = pd.concat(df_list, ignore_index=True)\n",
        "    combined_df.dropna(\n",
        "        subset=['uplink_volume', 'downlink_volume', 'total_volume', 'session_duration'],\n",
        "        inplace=True\n",
        "    )\n",
        "    return combined_df\n",
        "\n",
        "combined_df = load_and_combine('/content/datasets/')\n",
        "print(f\"Combined data shape: {combined_df.shape}\")\n",
        "true_labels = combined_df['is_anomaly'].astype(int)"
      ],
      "metadata": {
        "colab": {
          "base_uri": "https://localhost:8080/"
        },
        "id": "PEyN3id0PLfx",
        "outputId": "1cf09b90-a002-4082-a124-46d42ac448de"
      },
      "execution_count": 3,
      "outputs": [
        {
          "output_type": "stream",
          "name": "stdout",
          "text": [
            "Combined data shape: (70000, 7)\n"
          ]
        }
      ]
    },
    {
      "cell_type": "code",
      "source": [
        "# ──────────── 2. FEATURE ENGINEERING ────────────\n",
        "def engineer_features(df):\n",
        "    transfer_cols = ['uplink_volume','downlink_volume','total_volume','session_duration','bytes_per_second','uplink_ratio']\n",
        "    feats = df[transfer_cols].astype(float).fillna(0)\n",
        "    # Basic ratios\n",
        "    feats['uplink_downlink_ratio'] = feats['uplink_volume'] / (feats['downlink_volume'] + 1e-8)\n",
        "    feats['volume_duration_ratio'] = feats['total_volume']  / (feats['session_duration'] + 1e-8)\n",
        "    feats['bps_per_total_volume']  = feats['bytes_per_second'] / (feats['total_volume']     + 1e-8)\n",
        "    # Rolling stats per session (if session_id exists; here global rolling)\n",
        "    feats['rolling_vol_mean'] = feats['total_volume'].rolling(window=5, min_periods=1).mean()\n",
        "    feats['rolling_vol_std']  = feats['total_volume'].rolling(window=5, min_periods=1).std().fillna(0)\n",
        "    scaler = StandardScaler()\n",
        "    X = scaler.fit_transform(feats)\n",
        "    return X, scaler\n",
        "\n",
        "X, scaler = engineer_features(combined_df)"
      ],
      "metadata": {
        "id": "pgqLJ2j_PaF1"
      },
      "execution_count": 4,
      "outputs": []
    },
    {
      "cell_type": "code",
      "source": [
        "# ──────────── 3. HANDLE CLASS IMBALANCE ────────────\n",
        "X_res, y_res = SMOTE(random_state=42).fit_resample(X, true_labels)"
      ],
      "metadata": {
        "id": "n9y3Dvg1PdfU"
      },
      "execution_count": 5,
      "outputs": []
    },
    {
      "cell_type": "code",
      "source": [
        "# ──────────── 4. TRAIN/TEST SPLIT ────────────\n",
        "X_train, X_test, y_train, y_test = train_test_split(\n",
        "X_res, y_res, test_size=0.2, random_state=42, stratify=y_res\n",
        ")"
      ],
      "metadata": {
        "id": "FqxGBmMCPfJ0"
      },
      "execution_count": 6,
      "outputs": []
    },
    {
      "cell_type": "code",
      "source": [
        "# ──────────── 5. FIT BASE MODELS ────────────\n",
        "# Isolation Forest\n",
        "iso = IsolationForest(contamination=0.1, n_estimators=300, max_features=0.7, random_state=42, n_jobs=-1)\n",
        "iso.fit(X_train)\n",
        "iso_test_scores = iso.decision_function(X_test) # higher = normal"
      ],
      "metadata": {
        "id": "4IT45K6HPg_R"
      },
      "execution_count": 7,
      "outputs": []
    },
    {
      "cell_type": "code",
      "source": [
        "# K-Means distances\n",
        "k2 = KMeans(n_clusters=2, random_state=42, n_init=10)\n",
        "k2.fit(X_train)\n",
        "_, k_dist = pairwise_distances_argmin_min(X_test, k2.cluster_centers_)"
      ],
      "metadata": {
        "id": "Bx7Nmz7Qc49s"
      },
      "execution_count": 8,
      "outputs": []
    },
    {
      "cell_type": "code",
      "source": [
        "# One-Class SVM\n",
        "ocsvm = OneClassSVM(kernel='rbf', gamma='auto', nu=0.05)\n",
        "ocsvm.fit(X_train)\n",
        "svm_test_scores = ocsvm.decision_function(X_test) # higher = normal"
      ],
      "metadata": {
        "id": "VO8o8Eyec7IO"
      },
      "execution_count": 9,
      "outputs": []
    },
    {
      "cell_type": "code",
      "source": [
        "# Autoencoder\n",
        "input_dim = X_train.shape[1]\n",
        "inp = layers.Input(shape=(input_dim,))\n",
        "enc = layers.Dense(32, activation='relu')(inp)\n",
        "enc = layers.Dense(16, activation='relu')(enc)\n",
        "dec = layers.Dense(32, activation='relu')(enc)\n",
        "dec = layers.Dense(input_dim, activation='linear')(dec)\n",
        "autoencoder = models.Model(inputs=inp, outputs=dec)\n",
        "autoencoder.compile(optimizer='adam', loss='mse')\n",
        "autoencoder.fit(X_train, X_train, epochs=20, batch_size=256, validation_split=0.1, verbose=0)\n",
        "recon = autoencoder.predict(X_test)\n",
        "ae_test_scores = np.mean(np.square(X_test - recon), axis=1) # higher = anomalous"
      ],
      "metadata": {
        "colab": {
          "base_uri": "https://localhost:8080/"
        },
        "id": "66Q4UT1Ic94A",
        "outputId": "d79723a4-5ff2-4e8e-f25c-7909251dc82a"
      },
      "execution_count": 10,
      "outputs": [
        {
          "output_type": "stream",
          "name": "stdout",
          "text": [
            "\u001b[1m832/832\u001b[0m \u001b[32m━━━━━━━━━━━━━━━━━━━━\u001b[0m\u001b[37m\u001b[0m \u001b[1m1s\u001b[0m 1ms/step\n"
          ]
        }
      ]
    },
    {
      "cell_type": "code",
      "source": [
        "# ──────────── 6. ENSEMBLE & THRESHOLD TUNING ────────────\n",
        "best_recall = 0\n",
        "best_weights = None\n",
        "best_thr = None\n",
        "\n",
        "for w1 in [0.2, 0.4, 0.6]:\n",
        "    for w2 in [0.2, 0.4, 0.6]:\n",
        "        for w3 in [0.2, 0.4]:\n",
        "            w4 = 1.0 - (w1 + w2 + w3)\n",
        "            if w4 < 0:\n",
        "                continue\n",
        "            ens_scores = (\n",
        "                w1 * -iso_test_scores +\n",
        "                w2 * k_dist +\n",
        "                w3 * -svm_test_scores +\n",
        "                w4 * ae_test_scores\n",
        "            )\n",
        "            prec, rec, thr = precision_recall_curve(y_test, ens_scores)\n",
        "            # exclude last point\n",
        "            prec, rec, thr = prec[:-1], rec[:-1], thr\n",
        "            # require min precision\n",
        "            valid = prec >= 0.1\n",
        "            if valid.any():\n",
        "                idx = np.argmax(rec[valid])\n",
        "                r_val = rec[valid][idx]\n",
        "                t_val = thr[valid][idx]\n",
        "            else:\n",
        "                idx = np.argmax(rec)\n",
        "                r_val = rec[idx]\n",
        "                t_val = thr[idx]\n",
        "            if r_val > best_recall:\n",
        "                best_recall = r_val\n",
        "                best_weights = (w1, w2, w3, w4)\n",
        "                best_thr = t_val\n",
        "\n",
        "print(f\"Best ensemble weights (ISO,KMeans,SVM,AE): {best_weights}, threshold={best_thr:.4f}\")\n",
        "\n",
        "final_scores = (\n",
        "    best_weights[0] * -iso_test_scores +\n",
        "    best_weights[1] * k_dist +\n",
        "    best_weights[2] * -svm_test_scores +\n",
        "    best_weights[3] * ae_test_scores\n",
        ")\n",
        "final_pred = (final_scores >= best_thr).astype(int)"
      ],
      "metadata": {
        "colab": {
          "base_uri": "https://localhost:8080/"
        },
        "id": "AwMn_C5oPo7V",
        "outputId": "d2be7175-ea1c-4459-a1b1-f5d0d28981d7"
      },
      "execution_count": 11,
      "outputs": [
        {
          "output_type": "stream",
          "name": "stdout",
          "text": [
            "Best ensemble weights (ISO,KMeans,SVM,AE): (0.2, 0.2, 0.2, 0.3999999999999999), threshold=-3.2472\n"
          ]
        }
      ]
    },
    {
      "cell_type": "code",
      "source": [
        "# ──────────── 7. VALIDATION STABILITY (5-Fold CV) ────────────\n",
        "skf = StratifiedKFold(n_splits=5, shuffle=True, random_state=42)\n",
        "cv_preds, cv_truth = [], []\n",
        "for tr_idx, val_idx in skf.split(X_res, y_res):\n",
        "    X_tr, X_val = X_res[tr_idx], X_res[val_idx]\n",
        "    y_tr, y_val = y_res[tr_idx], y_res[val_idx]\n",
        "    # Refit base models\n",
        "    iso.fit(X_tr); s_iso = iso.decision_function(X_val)\n",
        "    k2.fit(X_tr); _, s_k = pairwise_distances_argmin_min(X_val, k2.cluster_centers_)\n",
        "    ocsvm.fit(X_tr); s_svm = ocsvm.decision_function(X_val)\n",
        "    autoencoder.fit(X_tr, X_tr, epochs=5, batch_size=256, verbose=0)\n",
        "    recon = autoencoder.predict(X_val); s_ae = np.mean((X_val - recon)**2, axis=1)\n",
        "    # Ensemble\n",
        "    ens = (\n",
        "        best_weights[0] * -s_iso +\n",
        "        best_weights[1] * s_k +\n",
        "        best_weights[2] * -s_svm +\n",
        "        best_weights[3] * s_ae\n",
        "    )\n",
        "    cv_preds.append((ens >= best_thr).astype(int))\n",
        "    cv_truth.append(y_val)\n",
        "cv_preds = np.concatenate(cv_preds)\n",
        "cv_truth = np.concatenate(cv_truth)\n",
        "print(\"CV Precision:\", precision_score(cv_truth, cv_preds))\n",
        "print(\"CV Recall:   \", recall_score(cv_truth, cv_preds))\n",
        "print(\"CV F1:       \", f1_score(cv_truth, cv_preds))"
      ],
      "metadata": {
        "colab": {
          "base_uri": "https://localhost:8080/"
        },
        "id": "DVgkAx5APuEx",
        "outputId": "af504acc-ea4c-4f9c-b62c-698fb231a764"
      },
      "execution_count": 12,
      "outputs": [
        {
          "output_type": "stream",
          "name": "stdout",
          "text": [
            "\u001b[1m832/832\u001b[0m \u001b[32m━━━━━━━━━━━━━━━━━━━━\u001b[0m\u001b[37m\u001b[0m \u001b[1m1s\u001b[0m 1ms/step\n",
            "\u001b[1m832/832\u001b[0m \u001b[32m━━━━━━━━━━━━━━━━━━━━\u001b[0m\u001b[37m\u001b[0m \u001b[1m1s\u001b[0m 1ms/step\n",
            "\u001b[1m832/832\u001b[0m \u001b[32m━━━━━━━━━━━━━━━━━━━━\u001b[0m\u001b[37m\u001b[0m \u001b[1m1s\u001b[0m 997us/step\n",
            "\u001b[1m832/832\u001b[0m \u001b[32m━━━━━━━━━━━━━━━━━━━━\u001b[0m\u001b[37m\u001b[0m \u001b[1m1s\u001b[0m 1ms/step\n",
            "\u001b[1m832/832\u001b[0m \u001b[32m━━━━━━━━━━━━━━━━━━━━\u001b[0m\u001b[37m\u001b[0m \u001b[1m1s\u001b[0m 1ms/step  \n",
            "CV Precision: 0.5000375968117904\n",
            "CV Recall:    1.0\n",
            "CV F1:        0.6667000852173042\n"
          ]
        }
      ]
    },
    {
      "cell_type": "code",
      "source": [
        "# ──────────── 8. FINAL EVALUATION & REPORT ────────────\n",
        "acc = accuracy_score(y_test, final_pred)\n",
        "prec = precision_score(y_test, final_pred)\n",
        "rec = recall_score(y_test, final_pred)\n",
        "f1 = f1_score(y_test, final_pred)\n",
        "fn = ((y_test == 1) & (final_pred == 0)).sum()\n",
        "tot = (y_test == 1).sum()\n",
        "\n",
        "print(\"=== FINAL MODEL PERFORMANCE ===\")\n",
        "print(f\"Accuracy: {acc:.3f}\")\n",
        "print(f\"Precision: {prec:.3f}\")\n",
        "print(f\"Recall: {rec:.3f}\")\n",
        "print(f\"F1 Score: {f1:.3f}\")\n",
        "print(\"\\n=== FORENSIC-SPECIFIC METRICS ===\")\n",
        "print(f\"False Negatives: {fn}\")\n",
        "print(f\"Total Anomalies: {tot}\")\n",
        "print(f\"False Negative Rate:{fn/tot:.3f}\")\n",
        "print(f\"Detection Rate: {1 - fn/tot:.3f}\")\n",
        "\n",
        "# Precision–Recall Curve\n",
        "p, r, _ = precision_recall_curve(y_test, final_scores)\n",
        "plt.figure(figsize=(6,4))\n",
        "plt.plot(r, p, label='Ensemble')\n",
        "plt.xlabel('Recall'); plt.ylabel('Precision')\n",
        "plt.title('Precision–Recall Curve')\n",
        "plt.legend(); plt.show()"
      ],
      "metadata": {
        "colab": {
          "base_uri": "https://localhost:8080/",
          "height": 606
        },
        "id": "97UI0tktdJ9N",
        "outputId": "1a09f827-a4a1-471b-adba-a9044e8935e9"
      },
      "execution_count": 13,
      "outputs": [
        {
          "output_type": "stream",
          "name": "stdout",
          "text": [
            "=== FINAL MODEL PERFORMANCE ===\n",
            "Accuracy: 0.500\n",
            "Precision: 0.500\n",
            "Recall: 1.000\n",
            "F1 Score: 0.667\n",
            "\n",
            "=== FORENSIC-SPECIFIC METRICS ===\n",
            "False Negatives: 0\n",
            "Total Anomalies: 13300\n",
            "False Negative Rate:0.000\n",
            "Detection Rate: 1.000\n"
          ]
        },
        {
          "output_type": "display_data",
          "data": {
            "text/plain": [
              "<Figure size 600x400 with 1 Axes>"
            ],
            "image/png": "[encoded data removed]"
          },
          "metadata": {}
        }
      ]
    },
    {
      "cell_type": "code",
      "source": [],
      "metadata": {
        "id": "ip6Kf-KujYWG"
      },
      "execution_count": null,
      "outputs": []
    }
  ]
}