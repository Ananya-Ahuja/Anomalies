{
  "nbformat": 4,
  "nbformat_minor": 0,
  "metadata": {
    "colab": {
      "provenance": [],
      "authorship_tag": "ABX9TyPuOMsrvm5Engx8iQl559xI",
      "include_colab_link": true
    },
    "kernelspec": {
      "name": "python3",
      "display_name": "Python 3"
    },
    "language_info": {
      "name": "python"
    }
  },
  "cells": [
    {
      "cell_type": "markdown",
      "metadata": {
        "id": "view-in-github",
        "colab_type": "text"
      },
      "source": [
        "<a href=\"https://colab.research.google.com/github/Ananya-Ahuja/Anomalyze/blob/ananya_ahuja/Data_transfer_patterns_2_0.ipynb\" target=\"_parent\"><img src=\"https://colab.research.google.com/assets/colab-badge.svg\" alt=\"Open In Colab\"/></a>"
      ]
    },
    {
      "cell_type": "code",
      "execution_count": 3,
      "metadata": {
        "id": "aA_aIazgPDlA"
      },
      "outputs": [],
      "source": [
        "import pandas as pd\n",
        "import numpy as np\n",
        "import glob\n",
        "import matplotlib.pyplot as plt\n",
        "import warnings\n",
        "\n",
        "from sklearn.preprocessing import StandardScaler\n",
        "from sklearn.model_selection import train_test_split\n",
        "from sklearn.ensemble import IsolationForest\n",
        "from sklearn.cluster import KMeans\n",
        "from sklearn.svm import OneClassSVM\n",
        "from sklearn.metrics import (\n",
        "    precision_recall_curve, accuracy_score, precision_score,\n",
        "    recall_score, f1_score, pairwise_distances_argmin_min\n",
        ")\n",
        "from imblearn.over_sampling import SMOTE\n",
        "from tensorflow.keras import layers, models\n",
        "\n",
        "warnings.filterwarnings('ignore')"
      ]
    },
    {
      "cell_type": "code",
      "source": [
        "# ──────────── 1. LOAD & COMBINE DATA ────────────\n",
        "data_folder = '/content/datasets/'\n",
        "files = glob.glob(data_folder + '*.csv')\n",
        "combined_cols = [\n",
        "    'uplink_volume', 'downlink_volume', 'total_volume',\n",
        "    'session_duration', 'bytes_per_second', 'uplink_ratio', 'is_anomaly'\n",
        "]\n",
        "transfer_cols = combined_cols[:-1]\n",
        "\n",
        "df_list = []\n",
        "for f in files:\n",
        "    df = pd.read_csv(f, low_memory=False)\n",
        "    cols = [c for c in combined_cols if c in df.columns]\n",
        "    df = df[cols]\n",
        "    for c in transfer_cols:\n",
        "        if c not in df:\n",
        "            df[c] = pd.NA\n",
        "    df = df[combined_cols]\n",
        "    df_list.append(df)\n",
        "\n",
        "combined_df = pd.concat(df_list, ignore_index=True)\n",
        "combined_df.dropna(subset=['uplink_volume','downlink_volume','total_volume','session_duration'], inplace=True)\n",
        "print(f\"Combined data shape: {combined_df.shape}\")\n",
        "\n",
        "# True labels\n",
        "true_labels = combined_df['is_anomaly'].astype(int)"
      ],
      "metadata": {
        "colab": {
          "base_uri": "https://localhost:8080/"
        },
        "id": "PEyN3id0PLfx",
        "outputId": "bc881837-2dc9-4f89-8d43-b5b2655f16f1"
      },
      "execution_count": 4,
      "outputs": [
        {
          "output_type": "stream",
          "name": "stdout",
          "text": [
            "Combined data shape: (70000, 7)\n"
          ]
        }
      ]
    },
    {
      "cell_type": "code",
      "source": [
        "# ──────────── 2. FEATURE ENGINEERING ────────────\n",
        "features = combined_df[transfer_cols].astype(float).fillna(0)\n",
        "\n",
        "# Basic ratios\n",
        "features['uplink_downlink_ratio'] = features['uplink_volume'] / (features['downlink_volume'] + 1e-8)\n",
        "features['volume_duration_ratio'] = features['total_volume'] / (features['session_duration'] + 1e-8)\n",
        "features['bps_per_total_volume'] = features['bytes_per_second'] / (features['total_volume'] + 1e-8)\n",
        "\n",
        "# Rolling statistics (window=5)\n",
        "features['rolling_vol_mean'] = features['total_volume'].rolling(window=5, min_periods=1).mean()\n",
        "features['rolling_vol_std'] = features['total_volume'].rolling(window=5, min_periods=1).std().fillna(0)\n",
        "\n",
        "scaler = StandardScaler()\n",
        "X = scaler.fit_transform(features)"
      ],
      "metadata": {
        "id": "pgqLJ2j_PaF1"
      },
      "execution_count": 5,
      "outputs": []
    },
    {
      "cell_type": "code",
      "source": [
        "# ──────────── 3. HANDLE CLASS IMBALANCE ────────────\n",
        "X_res, y_res = SMOTE(random_state=42).fit_resample(X, true_labels)"
      ],
      "metadata": {
        "id": "n9y3Dvg1PdfU"
      },
      "execution_count": 6,
      "outputs": []
    },
    {
      "cell_type": "code",
      "source": [
        "# ──────────── 4. TRAIN/TEST SPLIT ────────────\n",
        "X_train, X_test, y_train, y_test = train_test_split(\n",
        "X_res, y_res, test_size=0.2, random_state=42, stratify=y_res\n",
        ")"
      ],
      "metadata": {
        "id": "FqxGBmMCPfJ0"
      },
      "execution_count": 7,
      "outputs": []
    },
    {
      "cell_type": "code",
      "source": [
        "# ──────────── 5. BASE UNSUPERVISED MODELS ────────────\n",
        "# 5.1 Isolation Forest\n",
        "iso = IsolationForest(\n",
        "contamination=0.1, n_estimators=300, max_features=0.7,\n",
        "random_state=42, n_jobs=-1\n",
        ")\n",
        "iso.fit(X_train)\n",
        "iso_scores = iso.decision_function(X_test) # higher = more normal\n",
        "\n",
        "# 5.2 K-Means distance\n",
        "k2 = KMeans(n_clusters=2, random_state=42, n_init=10)\n",
        "k2.fit(X_train)\n",
        "_, k_dist = pairwise_distances_argmin_min(X_test, k2.cluster_centers_)"
      ],
      "metadata": {
        "id": "4IT45K6HPg_R"
      },
      "execution_count": 8,
      "outputs": []
    },
    {
      "cell_type": "code",
      "source": [
        "# ──────────── 6. ONE-CLASS SVM ────────────\n",
        "ocsvm = OneClassSVM(kernel='rbf', gamma='auto', nu=0.05)\n",
        "ocsvm.fit(X_train)\n",
        "svm_scores = ocsvm.decision_function(X_test) # higher = more normal"
      ],
      "metadata": {
        "id": "QxW4U3yyPjoR"
      },
      "execution_count": 9,
      "outputs": []
    },
    {
      "cell_type": "code",
      "source": [
        "# ──────────── 7. AUTOENCODER ────────────\n",
        "input_dim = X_train.shape[1]\n",
        "inp = layers.Input(shape=(input_dim,))\n",
        "enc = layers.Dense(32, activation='relu')(inp)\n",
        "enc = layers.Dense(16, activation='relu')(enc)\n",
        "dec = layers.Dense(32, activation='relu')(enc)\n",
        "dec = layers.Dense(input_dim, activation='linear')(dec)\n",
        "autoencoder = models.Model(inputs=inp, outputs=dec)\n",
        "autoencoder.compile(optimizer='adam', loss='mse')\n",
        "autoencoder.fit(X_train, X_train, epochs=20, batch_size=256, validation_split=0.1, verbose=0)\n",
        "recon = autoencoder.predict(X_test)\n",
        "ae_scores = np.mean(np.square(X_test - recon), axis=1) # higher = more anomalous"
      ],
      "metadata": {
        "colab": {
          "base_uri": "https://localhost:8080/"
        },
        "id": "AIQEdCvwPlpt",
        "outputId": "7daba181-58ab-47e9-c0bd-ef4e27b7b91e"
      },
      "execution_count": 10,
      "outputs": [
        {
          "output_type": "stream",
          "name": "stdout",
          "text": [
            "\u001b[1m832/832\u001b[0m \u001b[32m━━━━━━━━━━━━━━━━━━━━\u001b[0m\u001b[37m\u001b[0m \u001b[1m1s\u001b[0m 1ms/step\n"
          ]
        }
      ]
    },
    {
      "cell_type": "code",
      "source": [
        "# ──────────── 8. ENSEMBLE & THRESHOLD TUNING ────────────\n",
        "# Stack anomaly scores (invert scores where higher means more normal)\n",
        "stacked = np.vstack([\n",
        "    -iso_scores,\n",
        "    k_dist,\n",
        "    -svm_scores,\n",
        "    ae_scores\n",
        "]).T\n",
        "\n",
        "best_recall = 0\n",
        "best_weights = None\n",
        "best_thr = None\n",
        "\n",
        "# Grid-search weights w1..w4 summing to 1\n",
        "for w1 in [0.2, 0.4, 0.6]:\n",
        "    for w2 in [0.2, 0.4, 0.6]:\n",
        "        for w3 in [0.2, 0.4]:\n",
        "            w4 = 1.0 - (w1 + w2 + w3)\n",
        "            if w4 < 0:\n",
        "                continue\n",
        "            ens = w1 * -iso_scores + w2 * k_dist + w3 * -svm_scores + w4 * ae_scores\n",
        "            prec, rec, thr = precision_recall_curve(y_test, ens)\n",
        "\n",
        "            # FIX: Handle the array length mismatch\n",
        "            mask = prec >= 0.1\n",
        "            if mask.any():\n",
        "                # Use mask[:-1] to match thresholds array length\n",
        "                valid_indices = np.where(mask[:-1])[0]  # Get indices where mask is True, excluding last element\n",
        "                if len(valid_indices) > 0:\n",
        "                    # Find the index with maximum recall among valid precision values\n",
        "                    idx = valid_indices[np.argmax(rec[mask][:-1] if len(rec[mask]) > len(valid_indices) else rec[mask])]\n",
        "                    r_val = rec[idx]\n",
        "                    t_val = thr[idx] if idx < len(thr) else thr[-1]\n",
        "                else:\n",
        "                    r_val = rec.max()\n",
        "                    t_val = thr[-1] if len(thr) > 0 else 0.5\n",
        "            else:\n",
        "                r_val = rec.max()\n",
        "                t_val = thr[-1] if len(thr) > 0 else 0.5\n",
        "\n",
        "            if r_val > best_recall:\n",
        "                best_recall = r_val\n",
        "                best_weights = (w1, w2, w3, w4)\n",
        "                best_thr = t_val\n",
        "\n",
        "print(f\"Best weights (ISO,KMeans,SVM,AE): {best_weights}, threshold: {best_thr:.4f}\")\n",
        "\n",
        "final_score = (\n",
        "    best_weights[0] * -iso_scores +\n",
        "    best_weights[1] * k_dist +\n",
        "    best_weights[2] * -svm_scores +\n",
        "    best_weights[3] * ae_scores\n",
        ")\n",
        "final_pred = (final_score >= best_thr).astype(int)"
      ],
      "metadata": {
        "colab": {
          "base_uri": "https://localhost:8080/"
        },
        "id": "AwMn_C5oPo7V",
        "outputId": "da6773a7-8909-4bab-a179-db280d96982d"
      },
      "execution_count": 13,
      "outputs": [
        {
          "output_type": "stream",
          "name": "stdout",
          "text": [
            "Best weights (ISO,KMeans,SVM,AE): (0.2, 0.2, 0.2, 0.3999999999999999), threshold: -3.2472\n"
          ]
        }
      ]
    },
    {
      "cell_type": "code",
      "source": [
        "# ──────────── 9. EVALUATION & REPORT ────────────\n",
        "acc = accuracy_score(y_test, final_pred)\n",
        "prec = precision_score(y_test, final_pred)\n",
        "rec = recall_score(y_test, final_pred)\n",
        "f1 = f1_score(y_test, final_pred)\n",
        "fn = ((y_test == 1) & (final_pred == 0)).sum()\n",
        "tot = (y_test == 1).sum()\n",
        "\n",
        "print(\"=== FINAL MODEL PERFORMANCE ===\")\n",
        "print(f\"Accuracy: {acc:.3f}\")\n",
        "print(f\"Precision: {prec:.3f}\")\n",
        "print(f\"Recall: {rec:.3f}\")\n",
        "print(f\"F1 Score: {f1:.3f}\")\n",
        "\n",
        "print(\"\\n=== FORENSIC-SPECIFIC METRICS ===\")\n",
        "print(f\"False Negatives: {fn}\")\n",
        "print(f\"Total Anomalies: {tot}\")\n",
        "print(f\"False Negative Rate:{fn/tot:.3f}\")\n",
        "print(f\"Detection Rate: {1 - fn/tot:.3f}\")\n",
        "\n",
        "# Precision–Recall Curve\n",
        "p, r, _ = precision_recall_curve(y_test, final_score)\n",
        "plt.figure(figsize=(6,4))\n",
        "plt.plot(r, p, label='Ensemble')\n",
        "plt.xlabel('Recall'); plt.ylabel('Precision')\n",
        "plt.title('Precision–Recall Curve')\n",
        "plt.legend(); plt.show()"
      ],
      "metadata": {
        "colab": {
          "base_uri": "https://localhost:8080/",
          "height": 606
        },
        "id": "DVgkAx5APuEx",
        "outputId": "9305cdd0-a77e-4fcd-f9bd-4cd6087bea58"
      },
      "execution_count": 14,
      "outputs": [
        {
          "output_type": "stream",
          "name": "stdout",
          "text": [
            "=== FINAL MODEL PERFORMANCE ===\n",
            "Accuracy: 0.500\n",
            "Precision: 0.500\n",
            "Recall: 1.000\n",
            "F1 Score: 0.667\n",
            "\n",
            "=== FORENSIC-SPECIFIC METRICS ===\n",
            "False Negatives: 0\n",
            "Total Anomalies: 13300\n",
            "False Negative Rate:0.000\n",
            "Detection Rate: 1.000\n"
          ]
        },
        {
          "output_type": "display_data",
          "data": {
            "text/plain": [
              "<Figure size 600x400 with 1 Axes>"
            ],
            "image/png": "[encoded data removed]"
          },
          "metadata": {}
        }
      ]
    },
    {
      "cell_type": "code",
      "source": [
        "# ──────────── 10. SAVE RESULTS ────────────\n",
        "output_df = combined_df.iloc[y_test.index].copy()\n",
        "output_df['final_anomaly'] = final_pred\n",
        "output_df.to_csv('/content/enhanced_anomaly_results.csv', index=False)\n",
        "print(\"Results saved to /content/enhanced_anomaly_results.csv\")"
      ],
      "metadata": {
        "id": "6gkKtX7KPwpn"
      },
      "execution_count": null,
      "outputs": []
    }
  ]
}