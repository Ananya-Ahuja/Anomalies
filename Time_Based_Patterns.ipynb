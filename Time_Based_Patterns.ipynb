{
  "nbformat": 4,
  "nbformat_minor": 0,
  "metadata": {
    "colab": {
      "provenance": [],
      "authorship_tag": "ABX9TyM31W9+wbZPJhD6RVlbfcr4",
      "include_colab_link": true
    },
    "kernelspec": {
      "name": "python3",
      "display_name": "Python 3"
    },
    "language_info": {
      "name": "python"
    }
  },
  "cells": [
    {
      "cell_type": "markdown",
      "metadata": {
        "id": "view-in-github",
        "colab_type": "text"
      },
      "source": [
        "<a href=\"https://colab.research.google.com/github/Ananya-Ahuja/Anomalyze/blob/ananya_ahuja/Time_Based_Patterns.ipynb\" target=\"_parent\"><img src=\"https://colab.research.google.com/assets/colab-badge.svg\" alt=\"Open In Colab\"/></a>"
      ]
    },
    {
      "cell_type": "code",
      "execution_count": 1,
      "metadata": {
        "id": "EhKNa2jzgzgG"
      },
      "outputs": [],
      "source": [
        "import pandas as pd\n",
        "import glob\n",
        "import numpy as np\n",
        "from sklearn.preprocessing import StandardScaler\n",
        "from sklearn.metrics import precision_recall_curve, classification_report, roc_auc_score, f1_score\n",
        "from sklearn.model_selection import train_test_split\n",
        "from tensorflow.keras.models import Sequential\n",
        "from tensorflow.keras.layers import LSTM, RepeatVector, TimeDistributed, Dense, Dropout\n",
        "from tensorflow.keras.callbacks import EarlyStopping, ReduceLROnPlateau\n",
        "import warnings\n",
        "warnings.filterwarnings('ignore')"
      ]
    },
    {
      "cell_type": "code",
      "source": [
        "# === 1. Load and combine datasets ===\n",
        "data_folder = '/content/datasets/'\n",
        "files = glob.glob(data_folder + '*.csv')\n",
        "time_cols = ['session_duration', 'bytes_per_second', 'hour', 'day_of_week', 'is_weekend', 'is_anomaly']\n",
        "\n",
        "df_list = []\n",
        "for file in files:\n",
        "    df = pd.read_csv(file, low_memory=False)\n",
        "    for col in time_cols:\n",
        "        if col not in df.columns:\n",
        "            df[col] = pd.NA\n",
        "    df_list.append(df[time_cols])\n",
        "\n",
        "combined_df = pd.concat(df_list, ignore_index=True)\n",
        "combined_df = combined_df.dropna(subset=['session_duration', 'bytes_per_second'])"
      ],
      "metadata": {
        "id": "O4-CoG4Ug4e1"
      },
      "execution_count": 2,
      "outputs": []
    },
    {
      "cell_type": "code",
      "source": [
        "# === 2. Feature engineering ===\n",
        "feature_cols = ['session_duration', 'bytes_per_second', 'hour', 'day_of_week', 'is_weekend']\n",
        "combined_df[feature_cols] = combined_df[feature_cols].fillna(0).astype(float)\n",
        "combined_df['is_anomaly'] = combined_df['is_anomaly'].fillna(0).astype(int)"
      ],
      "metadata": {
        "id": "Af168uj8g5Bu"
      },
      "execution_count": 3,
      "outputs": []
    },
    {
      "cell_type": "code",
      "source": [
        "# === 3. Proper train/val/test split BEFORE sequence creation ===\n",
        "train_df, temp_df = train_test_split(\n",
        "    combined_df, test_size=0.4, stratify=combined_df['is_anomaly'], random_state=42\n",
        ")\n",
        "val_df, test_df = train_test_split(\n",
        "    temp_df, test_size=0.5, stratify=temp_df['is_anomaly'], random_state=42\n",
        ")"
      ],
      "metadata": {
        "id": "uH1nPQ5wg7J6"
      },
      "execution_count": 4,
      "outputs": []
    },
    {
      "cell_type": "code",
      "source": [
        "# === 4. Scale features based on training set ===\n",
        "scaler = StandardScaler()\n",
        "scaler.fit(train_df[feature_cols])\n",
        "for df in (train_df, val_df, test_df):\n",
        "    df[feature_cols] = scaler.transform(df[feature_cols])"
      ],
      "metadata": {
        "id": "p6V8rjNSg9ZI"
      },
      "execution_count": 5,
      "outputs": []
    },
    {
      "cell_type": "code",
      "source": [
        "# === 5. Sequence creation ===\n",
        "sequence_length = 10\n",
        "\n",
        "def create_sequences(df, features, seq_len):\n",
        "    data = df[features].values\n",
        "    y = df['is_anomaly'].values\n",
        "    seqs, labels = [], []\n",
        "    for i in range(len(data) - seq_len + 1):\n",
        "        seqs.append(data[i:i+seq_len])\n",
        "        labels.append(int(y[i:i+seq_len].max()))\n",
        "    return np.array(seqs), np.array(labels)\n",
        "\n",
        "X_train, y_train = create_sequences(train_df, feature_cols, sequence_length)\n",
        "X_val,   y_val   = create_sequences(val_df,   feature_cols, sequence_length)\n",
        "X_test,  y_test  = create_sequences(test_df,  feature_cols, sequence_length)"
      ],
      "metadata": {
        "id": "6adXl2Slg_8a"
      },
      "execution_count": 6,
      "outputs": []
    },
    {
      "cell_type": "code",
      "source": [
        "# === 6. Build LSTM autoencoder with regularization ===\n",
        "n_features = len(feature_cols)\n",
        "model = Sequential([\n",
        "    LSTM(64, activation='relu', input_shape=(sequence_length, n_features), return_sequences=False),\n",
        "    Dropout(0.2),\n",
        "    RepeatVector(sequence_length),\n",
        "    LSTM(64, activation='relu', return_sequences=True),\n",
        "    Dropout(0.2),\n",
        "    TimeDistributed(Dense(n_features))\n",
        "])\n",
        "model.compile(optimizer='adam', loss='mse')"
      ],
      "metadata": {
        "id": "TFfbSZRXhCVj"
      },
      "execution_count": 7,
      "outputs": []
    },
    {
      "cell_type": "code",
      "source": [
        "# === 7. Train with validation ===\n",
        "callbacks = [\n",
        "    EarlyStopping(monitor='val_loss', patience=10, restore_best_weights=True),\n",
        "    ReduceLROnPlateau(monitor='val_loss', factor=0.5, patience=5, min_lr=1e-6)\n",
        "]\n",
        "model.fit(\n",
        "    X_train, X_train,\n",
        "    epochs=100,\n",
        "    batch_size=64,\n",
        "    validation_data=(X_val, X_val),\n",
        "    callbacks=callbacks,\n",
        "    verbose=1\n",
        ")"
      ],
      "metadata": {
        "colab": {
          "base_uri": "https://localhost:8080/"
        },
        "id": "SdEhxuuShEr0",
        "outputId": "2a36b62f-531d-4380-969e-3732d24d06bf"
      },
      "execution_count": 8,
      "outputs": [
        {
          "output_type": "stream",
          "name": "stdout",
          "text": [
            "Epoch 1/100\n",
            "\u001b[1m657/657\u001b[0m \u001b[32m━━━━━━━━━━━━━━━━━━━━\u001b[0m\u001b[37m\u001b[0m \u001b[1m20s\u001b[0m 24ms/step - loss: 0.9136 - val_loss: 0.7851 - learning_rate: 0.0010\n",
            "Epoch 2/100\n",
            "\u001b[1m657/657\u001b[0m \u001b[32m━━━━━━━━━━━━━━━━━━━━\u001b[0m\u001b[37m\u001b[0m \u001b[1m15s\u001b[0m 23ms/step - loss: 0.8812 - val_loss: 0.7353 - learning_rate: 0.0010\n",
            "Epoch 3/100\n",
            "\u001b[1m657/657\u001b[0m \u001b[32m━━━━━━━━━━━━━━━━━━━━\u001b[0m\u001b[37m\u001b[0m \u001b[1m14s\u001b[0m 21ms/step - loss: 0.7672 - val_loss: 0.6750 - learning_rate: 0.0010\n",
            "Epoch 4/100\n",
            "\u001b[1m657/657\u001b[0m \u001b[32m━━━━━━━━━━━━━━━━━━━━\u001b[0m\u001b[37m\u001b[0m \u001b[1m21s\u001b[0m 21ms/step - loss: 0.7497 - val_loss: 0.6310 - learning_rate: 0.0010\n",
            "Epoch 5/100\n",
            "\u001b[1m657/657\u001b[0m \u001b[32m━━━━━━━━━━━━━━━━━━━━\u001b[0m\u001b[37m\u001b[0m \u001b[1m21s\u001b[0m 22ms/step - loss: 0.6761 - val_loss: 0.7212 - learning_rate: 0.0010\n",
            "Epoch 6/100\n",
            "\u001b[1m657/657\u001b[0m \u001b[32m━━━━━━━━━━━━━━━━━━━━\u001b[0m\u001b[37m\u001b[0m \u001b[1m21s\u001b[0m 23ms/step - loss: 0.7431 - val_loss: 0.7702 - learning_rate: 0.0010\n",
            "Epoch 7/100\n",
            "\u001b[1m657/657\u001b[0m \u001b[32m━━━━━━━━━━━━━━━━━━━━\u001b[0m\u001b[37m\u001b[0m \u001b[1m14s\u001b[0m 21ms/step - loss: 1.0426 - val_loss: 0.5793 - learning_rate: 0.0010\n",
            "Epoch 8/100\n",
            "\u001b[1m657/657\u001b[0m \u001b[32m━━━━━━━━━━━━━━━━━━━━\u001b[0m\u001b[37m\u001b[0m \u001b[1m15s\u001b[0m 23ms/step - loss: 0.6585 - val_loss: 0.5957 - learning_rate: 0.0010\n",
            "Epoch 9/100\n",
            "\u001b[1m657/657\u001b[0m \u001b[32m━━━━━━━━━━━━━━━━━━━━\u001b[0m\u001b[37m\u001b[0m \u001b[1m14s\u001b[0m 21ms/step - loss: 0.6538 - val_loss: 0.5701 - learning_rate: 0.0010\n",
            "Epoch 10/100\n",
            "\u001b[1m657/657\u001b[0m \u001b[32m━━━━━━━━━━━━━━━━━━━━\u001b[0m\u001b[37m\u001b[0m \u001b[1m14s\u001b[0m 21ms/step - loss: 0.6430 - val_loss: 0.5489 - learning_rate: 0.0010\n",
            "Epoch 11/100\n",
            "\u001b[1m657/657\u001b[0m \u001b[32m━━━━━━━━━━━━━━━━━━━━\u001b[0m\u001b[37m\u001b[0m \u001b[1m22s\u001b[0m 23ms/step - loss: 0.6437 - val_loss: 0.5399 - learning_rate: 0.0010\n",
            "Epoch 12/100\n",
            "\u001b[1m657/657\u001b[0m \u001b[32m━━━━━━━━━━━━━━━━━━━━\u001b[0m\u001b[37m\u001b[0m \u001b[1m15s\u001b[0m 23ms/step - loss: 0.5698 - val_loss: 0.5372 - learning_rate: 0.0010\n",
            "Epoch 13/100\n",
            "\u001b[1m657/657\u001b[0m \u001b[32m━━━━━━━━━━━━━━━━━━━━\u001b[0m\u001b[37m\u001b[0m \u001b[1m15s\u001b[0m 23ms/step - loss: 0.6819 - val_loss: 0.5095 - learning_rate: 0.0010\n",
            "Epoch 14/100\n",
            "\u001b[1m657/657\u001b[0m \u001b[32m━━━━━━━━━━━━━━━━━━━━\u001b[0m\u001b[37m\u001b[0m \u001b[1m20s\u001b[0m 22ms/step - loss: 0.6081 - val_loss: 0.5203 - learning_rate: 0.0010\n",
            "Epoch 15/100\n",
            "\u001b[1m657/657\u001b[0m \u001b[32m━━━━━━━━━━━━━━━━━━━━\u001b[0m\u001b[37m\u001b[0m \u001b[1m20s\u001b[0m 22ms/step - loss: 0.5917 - val_loss: 0.5124 - learning_rate: 0.0010\n",
            "Epoch 16/100\n",
            "\u001b[1m657/657\u001b[0m \u001b[32m━━━━━━━━━━━━━━━━━━━━\u001b[0m\u001b[37m\u001b[0m \u001b[1m19s\u001b[0m 20ms/step - loss: 0.6945 - val_loss: 0.4773 - learning_rate: 0.0010\n",
            "Epoch 17/100\n",
            "\u001b[1m657/657\u001b[0m \u001b[32m━━━━━━━━━━━━━━━━━━━━\u001b[0m\u001b[37m\u001b[0m \u001b[1m20s\u001b[0m 20ms/step - loss: 0.7484 - val_loss: 0.4795 - learning_rate: 0.0010\n",
            "Epoch 18/100\n",
            "\u001b[1m657/657\u001b[0m \u001b[32m━━━━━━━━━━━━━━━━━━━━\u001b[0m\u001b[37m\u001b[0m \u001b[1m20s\u001b[0m 20ms/step - loss: 0.5731 - val_loss: 0.5031 - learning_rate: 0.0010\n",
            "Epoch 19/100\n",
            "\u001b[1m657/657\u001b[0m \u001b[32m━━━━━━━━━━━━━━━━━━━━\u001b[0m\u001b[37m\u001b[0m \u001b[1m14s\u001b[0m 22ms/step - loss: 0.5777 - val_loss: 0.4890 - learning_rate: 0.0010\n",
            "Epoch 20/100\n",
            "\u001b[1m657/657\u001b[0m \u001b[32m━━━━━━━━━━━━━━━━━━━━\u001b[0m\u001b[37m\u001b[0m \u001b[1m21s\u001b[0m 22ms/step - loss: 0.6003 - val_loss: 0.4599 - learning_rate: 0.0010\n",
            "Epoch 21/100\n",
            "\u001b[1m657/657\u001b[0m \u001b[32m━━━━━━━━━━━━━━━━━━━━\u001b[0m\u001b[37m\u001b[0m \u001b[1m15s\u001b[0m 22ms/step - loss: 0.6715 - val_loss: 0.5160 - learning_rate: 0.0010\n",
            "Epoch 22/100\n",
            "\u001b[1m657/657\u001b[0m \u001b[32m━━━━━━━━━━━━━━━━━━━━\u001b[0m\u001b[37m\u001b[0m \u001b[1m21s\u001b[0m 23ms/step - loss: 0.6594 - val_loss: 0.5010 - learning_rate: 0.0010\n",
            "Epoch 23/100\n",
            "\u001b[1m657/657\u001b[0m \u001b[32m━━━━━━━━━━━━━━━━━━━━\u001b[0m\u001b[37m\u001b[0m \u001b[1m19s\u001b[0m 20ms/step - loss: 0.5696 - val_loss: 0.4903 - learning_rate: 0.0010\n",
            "Epoch 24/100\n",
            "\u001b[1m657/657\u001b[0m \u001b[32m━━━━━━━━━━━━━━━━━━━━\u001b[0m\u001b[37m\u001b[0m \u001b[1m15s\u001b[0m 22ms/step - loss: 0.6303 - val_loss: 0.4855 - learning_rate: 0.0010\n",
            "Epoch 25/100\n",
            "\u001b[1m657/657\u001b[0m \u001b[32m━━━━━━━━━━━━━━━━━━━━\u001b[0m\u001b[37m\u001b[0m \u001b[1m20s\u001b[0m 21ms/step - loss: 0.5844 - val_loss: 0.4675 - learning_rate: 0.0010\n",
            "Epoch 26/100\n",
            "\u001b[1m657/657\u001b[0m \u001b[32m━━━━━━━━━━━━━━━━━━━━\u001b[0m\u001b[37m\u001b[0m \u001b[1m21s\u001b[0m 22ms/step - loss: 0.5307 - val_loss: 0.5268 - learning_rate: 5.0000e-04\n",
            "Epoch 27/100\n",
            "\u001b[1m657/657\u001b[0m \u001b[32m━━━━━━━━━━━━━━━━━━━━\u001b[0m\u001b[37m\u001b[0m \u001b[1m20s\u001b[0m 22ms/step - loss: 0.6554 - val_loss: 0.4898 - learning_rate: 5.0000e-04\n",
            "Epoch 28/100\n",
            "\u001b[1m657/657\u001b[0m \u001b[32m━━━━━━━━━━━━━━━━━━━━\u001b[0m\u001b[37m\u001b[0m \u001b[1m19s\u001b[0m 20ms/step - loss: 0.5973 - val_loss: 0.4540 - learning_rate: 5.0000e-04\n",
            "Epoch 29/100\n",
            "\u001b[1m657/657\u001b[0m \u001b[32m━━━━━━━━━━━━━━━━━━━━\u001b[0m\u001b[37m\u001b[0m \u001b[1m15s\u001b[0m 22ms/step - loss: 0.5724 - val_loss: 0.4770 - learning_rate: 5.0000e-04\n",
            "Epoch 30/100\n",
            "\u001b[1m657/657\u001b[0m \u001b[32m━━━━━━━━━━━━━━━━━━━━\u001b[0m\u001b[37m\u001b[0m \u001b[1m14s\u001b[0m 21ms/step - loss: 0.5906 - val_loss: 0.5045 - learning_rate: 5.0000e-04\n",
            "Epoch 31/100\n",
            "\u001b[1m657/657\u001b[0m \u001b[32m━━━━━━━━━━━━━━━━━━━━\u001b[0m\u001b[37m\u001b[0m \u001b[1m20s\u001b[0m 20ms/step - loss: 0.5755 - val_loss: 0.4992 - learning_rate: 5.0000e-04\n",
            "Epoch 32/100\n",
            "\u001b[1m657/657\u001b[0m \u001b[32m━━━━━━━━━━━━━━━━━━━━\u001b[0m\u001b[37m\u001b[0m \u001b[1m15s\u001b[0m 22ms/step - loss: 0.6029 - val_loss: 0.5183 - learning_rate: 5.0000e-04\n",
            "Epoch 33/100\n",
            "\u001b[1m657/657\u001b[0m \u001b[32m━━━━━━━━━━━━━━━━━━━━\u001b[0m\u001b[37m\u001b[0m \u001b[1m19s\u001b[0m 20ms/step - loss: 0.7094 - val_loss: 0.4900 - learning_rate: 5.0000e-04\n",
            "Epoch 34/100\n",
            "\u001b[1m657/657\u001b[0m \u001b[32m━━━━━━━━━━━━━━━━━━━━\u001b[0m\u001b[37m\u001b[0m \u001b[1m20s\u001b[0m 20ms/step - loss: 0.5571 - val_loss: 0.4859 - learning_rate: 2.5000e-04\n",
            "Epoch 35/100\n",
            "\u001b[1m657/657\u001b[0m \u001b[32m━━━━━━━━━━━━━━━━━━━━\u001b[0m\u001b[37m\u001b[0m \u001b[1m21s\u001b[0m 21ms/step - loss: 0.5546 - val_loss: 0.4735 - learning_rate: 2.5000e-04\n",
            "Epoch 36/100\n",
            "\u001b[1m657/657\u001b[0m \u001b[32m━━━━━━━━━━━━━━━━━━━━\u001b[0m\u001b[37m\u001b[0m \u001b[1m20s\u001b[0m 20ms/step - loss: 0.6285 - val_loss: 0.4734 - learning_rate: 2.5000e-04\n",
            "Epoch 37/100\n",
            "\u001b[1m657/657\u001b[0m \u001b[32m━━━━━━━━━━━━━━━━━━━━\u001b[0m\u001b[37m\u001b[0m \u001b[1m13s\u001b[0m 20ms/step - loss: 0.6251 - val_loss: 0.4767 - learning_rate: 2.5000e-04\n",
            "Epoch 38/100\n",
            "\u001b[1m657/657\u001b[0m \u001b[32m━━━━━━━━━━━━━━━━━━━━\u001b[0m\u001b[37m\u001b[0m \u001b[1m21s\u001b[0m 20ms/step - loss: 0.6030 - val_loss: 0.4698 - learning_rate: 2.5000e-04\n"
          ]
        },
        {
          "output_type": "execute_result",
          "data": {
            "text/plain": [
              "<keras.src.callbacks.history.History at 0x7c32c7e213d0>"
            ]
          },
          "metadata": {},
          "execution_count": 8
        }
      ]
    },
    {
      "cell_type": "code",
      "source": [
        "# === 8. Compute reconstruction errors ===\n",
        "def get_mse(seqs, recon):\n",
        "    return np.mean(np.power(seqs - recon, 2), axis=(1,2))\n",
        "\n",
        "mse_val = get_mse(X_val, model.predict(X_val))\n",
        "mse_test = get_mse(X_test, model.predict(X_test))"
      ],
      "metadata": {
        "colab": {
          "base_uri": "https://localhost:8080/"
        },
        "id": "fCx4-ZXDhI7K",
        "outputId": "fbcf0a07-e0d7-48ba-f1b9-95253ec684cf"
      },
      "execution_count": 9,
      "outputs": [
        {
          "output_type": "stream",
          "name": "stdout",
          "text": [
            "\u001b[1m438/438\u001b[0m \u001b[32m━━━━━━━━━━━━━━━━━━━━\u001b[0m\u001b[37m\u001b[0m \u001b[1m3s\u001b[0m 5ms/step\n",
            "\u001b[1m438/438\u001b[0m \u001b[32m━━━━━━━━━━━━━━━━━━━━\u001b[0m\u001b[37m\u001b[0m \u001b[1m2s\u001b[0m 4ms/step\n"
          ]
        }
      ]
    },
    {
      "cell_type": "code",
      "source": [
        "# === 9. Grid-search threshold on validation for best F1 ===\n",
        "thresholds = np.linspace(mse_val.min(), mse_val.max(), 1000)\n",
        "best_thr, best_f1 = 0, 0\n",
        "for thr in thresholds:\n",
        "    preds = (mse_val > thr).astype(int)\n",
        "    score = f1_score(y_val, preds)\n",
        "    if score > best_f1:\n",
        "        best_f1, best_thr = score, thr\n",
        "\n",
        "optimal_threshold = best_thr\n",
        "print(f\"Optimal threshold: {optimal_threshold:.6f}, Validation F1: {best_f1:.3f}\")"
      ],
      "metadata": {
        "colab": {
          "base_uri": "https://localhost:8080/"
        },
        "id": "G1V2KvQmhLV2",
        "outputId": "1b4eb5d7-545b-44d1-f3bf-d5ddaa64a7d0"
      },
      "execution_count": 10,
      "outputs": [
        {
          "output_type": "stream",
          "name": "stdout",
          "text": [
            "Optimal threshold: 0.149783, Validation F1: 0.575\n"
          ]
        }
      ]
    },
    {
      "cell_type": "code",
      "source": [
        "# === 10. Final evaluation on TEST set ===\n",
        "y_pred_test = (mse_test > optimal_threshold).astype(int)\n",
        "print(\"\\n=== Classification Report on Test Set ===\")\n",
        "print(classification_report(y_test, y_pred_test, target_names=['Normal','Anomaly']))\n",
        "auc = roc_auc_score(y_test, mse_test)\n",
        "print(f\"AUC-ROC on Test Set: {auc:.3f}\")"
      ],
      "metadata": {
        "colab": {
          "base_uri": "https://localhost:8080/"
        },
        "id": "sJ-C-9ZrhNsG",
        "outputId": "5fbbc971-1db1-49bf-c1f9-d8aac2fd9df0"
      },
      "execution_count": 11,
      "outputs": [
        {
          "output_type": "stream",
          "name": "stdout",
          "text": [
            "\n",
            "=== Classification Report on Test Set ===\n",
            "              precision    recall  f1-score   support\n",
            "\n",
            "      Normal       0.70      0.02      0.04      8281\n",
            "     Anomaly       0.41      0.99      0.58      5710\n",
            "\n",
            "    accuracy                           0.42     13991\n",
            "   macro avg       0.55      0.50      0.31     13991\n",
            "weighted avg       0.58      0.42      0.26     13991\n",
            "\n",
            "AUC-ROC on Test Set: 0.572\n"
          ]
        }
      ]
    },
    {
      "cell_type": "code",
      "source": [
        "# === 11. Save final results ===\n",
        "final_df = test_df.iloc[sequence_length-1:].copy()\n",
        "final_df['lstm_recon_error'] = mse_test\n",
        "final_df['lstm_anomaly'] = y_pred_test\n",
        "final_df['is_anomaly_seq'] = y_test\n",
        "final_df.to_csv('/content/final_lstm_results.csv', index=False)\n",
        "print(\"Final results saved to /content/final_lstm_results.csv\")"
      ],
      "metadata": {
        "colab": {
          "base_uri": "https://localhost:8080/"
        },
        "id": "-kPAWhKXhQ2t",
        "outputId": "058534be-25af-40a2-8c02-3b0d8f60667e"
      },
      "execution_count": 12,
      "outputs": [
        {
          "output_type": "stream",
          "name": "stdout",
          "text": [
            "Final results saved to /content/final_lstm_results.csv\n"
          ]
        }
      ]
    }
  ]
}