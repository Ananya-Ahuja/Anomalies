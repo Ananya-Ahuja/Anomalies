{
  "nbformat": 4,
  "nbformat_minor": 0,
  "metadata": {
    "colab": {
      "provenance": [],
      "authorship_tag": "ABX9TyPKSPsFA3F/gmWTp1gcVQa5",
      "include_colab_link": true
    },
    "kernelspec": {
      "name": "python3",
      "display_name": "Python 3"
    },
    "language_info": {
      "name": "python"
    }
  },
  "cells": [
    {
      "cell_type": "markdown",
      "metadata": {
        "id": "view-in-github",
        "colab_type": "text"
      },
      "source": [
        "<a href=\"https://colab.research.google.com/github/Ananya-Ahuja/Anomalyze/blob/ananya_ahuja/VPN_Dataset.ipynb\" target=\"_parent\"><img src=\"https://colab.research.google.com/assets/colab-badge.svg\" alt=\"Open In Colab\"/></a>"
      ]
    },
    {
      "cell_type": "code",
      "execution_count": 1,
      "metadata": {
        "id": "_MgOhdPm-Uz5"
      },
      "outputs": [],
      "source": [
        "import pandas as pd\n",
        "import numpy as np\n",
        "import random\n",
        "from datetime import datetime, timedelta\n",
        "import pytz"
      ]
    },
    {
      "cell_type": "code",
      "source": [
        "# Timezone for India\n",
        "IST = pytz.timezone('Asia/Kolkata')\n",
        "\n",
        "def get_vpn_time_pattern(start_dt, duration_days):\n",
        "    \"\"\"\n",
        "    Generate realistic remote-work VPN time patterns:\n",
        "    - Peak corporate hours: 9 AM–6 PM (70% of sessions)\n",
        "    - Early morning/evening: 6 PM–9 PM & 7 AM–9 AM (20%)\n",
        "    - Odd hours: 12 AM–6 AM (10%)\n",
        "    \"\"\"\n",
        "    peak = list(range(9, 18))\n",
        "    extended = list(range(7, 9)) + list(range(18, 21))\n",
        "    odd = list(range(0, 7))\n",
        "    r = random.random()\n",
        "    if r < 0.7:\n",
        "        hour = random.choice(peak)\n",
        "    elif r < 0.9:\n",
        "        hour = random.choice(extended)\n",
        "    else:\n",
        "        hour = random.choice(odd)\n",
        "    day_offset = random.randint(0, duration_days - 1)\n",
        "    base = start_dt + timedelta(days=day_offset)\n",
        "    minute, second = random.randint(0, 59), random.randint(0, 59)\n",
        "    return IST.localize(base.replace(hour=hour, minute=minute, second=second))"
      ],
      "metadata": {
        "id": "seSjtRlc-YRe"
      },
      "execution_count": 2,
      "outputs": []
    },
    {
      "cell_type": "code",
      "source": [
        "def generate_home_src_ip():\n",
        "    \"\"\"\n",
        "    Generate realistic home-office IPs using private RFC1918 ranges,\n",
        "    avoiding common hotel/AP conflicts by picking mid-block /24 subnets.\n",
        "    \"\"\"\n",
        "    # Use a random /24 from 10.0.0.0/8 excluding low and high ranges\n",
        "    return f\"10.{random.randint(16, 239)}.{random.randint(1,254)}.{random.randint(1,254)}\""
      ],
      "metadata": {
        "id": "kLeLt_N6-bT2"
      },
      "execution_count": 3,
      "outputs": []
    },
    {
      "cell_type": "code",
      "source": [
        "def generate_vpn_server_ip():\n",
        "    \"\"\"\n",
        "    Generate realistic corporate VPN server IPs in a dedicated private subnet\n",
        "    (e.g., 172.27.224.0/20 default for OpenVPN Access Server).\n",
        "    \"\"\"\n",
        "    return f\"172.27.{random.randint(224,239)}.{random.randint(1,254)}\""
      ],
      "metadata": {
        "id": "z5IVI6d6-dMR"
      },
      "execution_count": 4,
      "outputs": []
    },
    {
      "cell_type": "code",
      "source": [
        "def inject_vpn_anomalies(records, anomaly_ratio=0.05):\n",
        "    \"\"\"\n",
        "    Inject realistic VPN anomalies:\n",
        "    - session_drop: abrupt end (zero downlink)\n",
        "    - long_idle: very long sessions with zero traffic\n",
        "    - split_tunnel_breach: high downlink to unusual dest_ip\n",
        "    - geo_change: sudden src_ip subnet jump\n",
        "    \"\"\"\n",
        "    n = int(len(records) * anomaly_ratio)\n",
        "    idxs = random.sample(range(len(records)), n)\n",
        "    for i in idxs:\n",
        "        rec = records[i]\n",
        "        typ = random.choice(['session_drop','long_idle','split_tunnel_breach','geo_change'])\n",
        "        rec['is_anomaly'] = 1\n",
        "        rec['anomaly_type'] = typ\n",
        "        if typ == 'session_drop':\n",
        "            rec['end_time'] = rec['start_time']  # zero duration\n",
        "            rec['session_duration'] = 0\n",
        "            rec['downlink_volume'] = 0\n",
        "        elif typ == 'long_idle':\n",
        "            rec['session_duration'] = random.randint(3600, 14400)  # 1–4 h\n",
        "            rec['uplink_volume'] = 0\n",
        "            rec['downlink_volume'] = 0\n",
        "        elif typ == 'split_tunnel_breach':\n",
        "            # traffic to non-VPN dest (e.g., public cloud)\n",
        "            rec['dest_ip'] = f\"52.{random.randint(1,254)}.{random.randint(1,254)}.{random.randint(1,254)}\"\n",
        "            rec['downlink_volume'] *= 10\n",
        "        elif typ == 'geo_change':\n",
        "            # simulate change to a different /16\n",
        "            rec['src_ip'] = f\"10.{random.randint(240,254)}.{random.randint(1,254)}.{random.randint(1,254)}\"\n",
        "    return records"
      ],
      "metadata": {
        "id": "HVIXY2hQ-fNE"
      },
      "execution_count": 5,
      "outputs": []
    },
    {
      "cell_type": "code",
      "source": [
        "def generate_remote_vpn_ipdr_dataset(\n",
        "    num_records=10000,\n",
        "    start_date=\"2024-01-01\",\n",
        "    duration_days=30,\n",
        "    seed=42\n",
        "):\n",
        "    \"\"\"\n",
        "    Generate realistic remote-work VPN IPDR dataset:\n",
        "    - Fields: src_ip, src_port, dest_ip, dest_port, protocol,\n",
        "      start_time, end_time, session_duration, uplink_volume,\n",
        "      downlink_volume, total_volume, is_anomaly, anomaly_type\n",
        "    - Realistic time patterns and IP ranges\n",
        "    - 5% labeled anomalies\n",
        "    \"\"\"\n",
        "    random.seed(seed)\n",
        "    np.random.seed(seed)\n",
        "    start_dt = datetime.strptime(start_date, \"%Y-%m-%d\")\n",
        "\n",
        "    records = []\n",
        "    for _ in range(num_records):\n",
        "        start_time = get_vpn_time_pattern(start_dt, duration_days)\n",
        "        duration = random.randint(300, 14400)  # 5 min–4 h\n",
        "        end_time = start_time + timedelta(seconds=duration)\n",
        "        uplink = random.randint(1000, 500000)   # 1 KB–500 KB\n",
        "        downlink = random.randint(5000, 5000000)  # 5 KB–5 MB\n",
        "\n",
        "        rec = {\n",
        "            \"src_ip\": generate_home_src_ip(),\n",
        "            \"src_port\": random.randint(1024,65535),\n",
        "            \"dest_ip\": generate_vpn_server_ip(),\n",
        "            \"dest_port\": random.choice([1194, 443, 500, 4500]),  # OpenVPN, SSL VPN, IPSec\n",
        "            \"protocol\": random.choice([\"UDP\",\"TCP\"]),\n",
        "            \"start_time\": start_time.strftime(\"%Y-%m-%d %H:%M:%S\"),\n",
        "            \"end_time\": end_time.strftime(\"%Y-%m-%d %H:%M:%S\"),\n",
        "            \"session_duration\": duration,\n",
        "            \"uplink_volume\": uplink,\n",
        "            \"downlink_volume\": downlink,\n",
        "            \"total_volume\": uplink + downlink,\n",
        "            \"is_anomaly\": 0,\n",
        "            \"anomaly_type\": \"normal\"\n",
        "        }\n",
        "        records.append(rec)\n",
        "\n",
        "    records = inject_vpn_anomalies(records, anomaly_ratio=0.05)\n",
        "    df = pd.DataFrame(records)\n",
        "\n",
        "    # Derived features\n",
        "    df['bytes_per_second'] = df['total_volume'] / df['session_duration'].replace(0,1)\n",
        "    df['hour'] = pd.to_datetime(df['start_time']).dt.hour\n",
        "    df['is_peak_hour'] = df['hour'].between(9,17).astype(int)\n",
        "    df['weekday'] = pd.to_datetime(df['start_time']).dt.dayofweek < 5\n",
        "    df['is_weekday'] = df['weekday'].astype(int)\n",
        "    return df\n",
        "\n",
        "if __name__ == \"__main__\":\n",
        "    df_vpn = generate_remote_vpn_ipdr_dataset()\n",
        "    print(\"=== REMOTE WORK VPN IPDR DATASET ===\")\n",
        "    print(f\"Total records: {len(df_vpn)}\")\n",
        "    print(f\"Anomalies: {df_vpn['is_anomaly'].sum()} ({df_vpn['is_anomaly'].mean()*100:.1f}%)\")\n",
        "    print(\"Columns:\", df_vpn.columns.tolist())\n",
        "    print(df_vpn.head())\n",
        "    df_vpn.to_csv(\"remote_work_vpn_ipdr_dataset.csv\", index=False)"
      ],
      "metadata": {
        "colab": {
          "base_uri": "https://localhost:8080/"
        },
        "id": "RCvBF2ge-hki",
        "outputId": "2c12423b-3f23-4203-a798-3d79a1e155a5"
      },
      "execution_count": 6,
      "outputs": [
        {
          "output_type": "stream",
          "name": "stdout",
          "text": [
            "=== REMOTE WORK VPN IPDR DATASET ===\n",
            "Total records: 10000\n",
            "Anomalies: 500 (5.0%)\n",
            "Columns: ['src_ip', 'src_port', 'dest_ip', 'dest_port', 'protocol', 'start_time', 'end_time', 'session_duration', 'uplink_volume', 'downlink_volume', 'total_volume', 'is_anomaly', 'anomaly_type', 'bytes_per_second', 'hour', 'is_peak_hour', 'weekday', 'is_weekday']\n",
            "           src_ip  src_port         dest_ip  dest_port protocol  \\\n",
            "0  10.189.190.229     36765  172.27.226.152       4500      UDP   \n",
            "1  10.199.167.180     36737   172.27.237.57       4500      TCP   \n",
            "2     10.87.40.56     63755   172.27.234.27       1194      TCP   \n",
            "3   10.153.32.250     61467   172.27.236.21        500      TCP   \n",
            "4   10.234.60.222      7643   172.27.236.72       4500      TCP   \n",
            "\n",
            "            start_time             end_time  session_duration  uplink_volume  \\\n",
            "0  2024-01-24 09:17:15  2024-01-24 10:23:12              3957          74158   \n",
            "1  2024-01-08 12:32:38  2024-01-08 12:44:52               734         295254   \n",
            "2  2024-01-25 07:51:10  2024-01-25 11:06:48             11738         222571   \n",
            "3  2024-01-20 14:16:51  2024-01-20 14:33:42              1011         383589   \n",
            "4  2024-01-02 10:42:14  2024-01-02 14:18:19             12965         152722   \n",
            "\n",
            "   downlink_volume  total_volume  is_anomaly anomaly_type  bytes_per_second  \\\n",
            "0           864791        938949           0       normal        237.288097   \n",
            "1          1672971       1968225           0       normal       2681.505450   \n",
            "2          2859228       3081799           0       normal        262.548901   \n",
            "3          3858935       4242524           0       normal       4196.363996   \n",
            "4           674343        827065           0       normal         63.792133   \n",
            "\n",
            "   hour  is_peak_hour  weekday  is_weekday  \n",
            "0     9             1     True           1  \n",
            "1    12             1     True           1  \n",
            "2     7             0     True           1  \n",
            "3    14             1    False           0  \n",
            "4    10             1     True           1  \n"
          ]
        }
      ]
    },
    {
      "cell_type": "code",
      "source": [],
      "metadata": {
        "id": "S_qPTrj7-k1R"
      },
      "execution_count": null,
      "outputs": []
    }
  ]
}