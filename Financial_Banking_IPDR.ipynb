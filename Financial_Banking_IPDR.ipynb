{
  "nbformat": 4,
  "nbformat_minor": 0,
  "metadata": {
    "colab": {
      "provenance": [],
      "authorship_tag": "ABX9TyPcugmXsNAN+C64n+Rc5p38",
      "include_colab_link": true
    },
    "kernelspec": {
      "name": "python3",
      "display_name": "Python 3"
    },
    "language_info": {
      "name": "python"
    }
  },
  "cells": [
    {
      "cell_type": "markdown",
      "metadata": {
        "id": "view-in-github",
        "colab_type": "text"
      },
      "source": [
        "<a href=\"https://colab.research.google.com/github/Ananya-Ahuja/Anomalyze/blob/ananya_ahuja/Financial_Banking_IPDR.ipynb\" target=\"_parent\"><img src=\"https://colab.research.google.com/assets/colab-badge.svg\" alt=\"Open In Colab\"/></a>"
      ]
    },
    {
      "cell_type": "code",
      "execution_count": 1,
      "metadata": {
        "id": "C4Yu3ec616Jt"
      },
      "outputs": [],
      "source": [
        "import pandas as pd\n",
        "import numpy as np\n",
        "import random\n",
        "from datetime import datetime, timedelta\n",
        "import pytz"
      ]
    },
    {
      "cell_type": "code",
      "source": [
        "# Timezone for India\n",
        "IST = pytz.timezone('Asia/Kolkata')\n",
        "\n",
        "def get_financial_time_pattern(start_dt, duration_days):\n",
        "    \"\"\"\n",
        "    Generate realistic financial/banking time patterns:\n",
        "    - Peak banking hours: 9am–12pm & 3pm–6pm (60% of sessions)\n",
        "    - Off-peak: 12pm–3pm & 6pm–8pm (30%)\n",
        "    - Odd hours (anomalous): 8pm–9am (10%)\n",
        "    \"\"\"\n",
        "    peak1 = list(range(9, 12))\n",
        "    peak2 = list(range(15, 18))\n",
        "    offpeak = list(range(12, 15)) + list(range(18, 20))\n",
        "    odd = list(range(0, 9)) + list(range(20, 24))\n",
        "\n",
        "    r = random.random()\n",
        "    if r < 0.6:\n",
        "        hour = random.choice(peak1 + peak2)\n",
        "    elif r < 0.9:\n",
        "        hour = random.choice(offpeak)\n",
        "    else:\n",
        "        hour = random.choice(odd)\n",
        "\n",
        "    day_offset = random.randint(0, duration_days - 1)\n",
        "    base = start_dt + timedelta(days=day_offset)\n",
        "    minute = random.randint(0, 59)\n",
        "    second = random.randint(0, 59)\n",
        "    naive = base.replace(hour=hour, minute=minute, second=second)\n",
        "    return IST.localize(naive)"
      ],
      "metadata": {
        "id": "0-SsP5bt9lXg"
      },
      "execution_count": 2,
      "outputs": []
    },
    {
      "cell_type": "code",
      "source": [
        "def generate_bank_src_ip():\n",
        "    \"\"\"\n",
        "    Realistic Indian banking customer IP ranges:\n",
        "    - Use national ISP ranges similar to broadband\n",
        "    \"\"\"\n",
        "    ranges = [\"49.{}.{}.{}\", \"14.{}.{}.{}\", \"117.{}.{}.{}\", \"203.{}.{}.{}\", \"182.{}.{}.{}\"]\n",
        "    template = random.choice(ranges)\n",
        "    return template.format(\n",
        "        random.randint(1, 254),\n",
        "        random.randint(1, 254),\n",
        "        random.randint(1, 254)\n",
        "    )"
      ],
      "metadata": {
        "id": "JT99NN8E9qd3"
      },
      "execution_count": 3,
      "outputs": []
    },
    {
      "cell_type": "code",
      "source": [
        "def generate_bank_dest_ip():\n",
        "    \"\"\"\n",
        "    Realistic bank server IPs from major Indian banks (HDFC, ICICI, BOI):\n",
        "    \"\"\"\n",
        "    templates = [\n",
        "        \"103.120.104.{}\", \"103.120.105.{}\", \"103.120.106.{}\", \"103.120.107.{}\",\n",
        "        \"203.171.210.{}\", \"203.171.211.{}\", \"203.189.92.{}\", \"203.27.235.{}\",\n",
        "        \"103.109.134.{}\", \"103.109.135.{}\", \"103.183.72.{}\", \"103.183.73.{}\"\n",
        "    ]\n",
        "    tpl = random.choice(templates)\n",
        "    return tpl.format(random.randint(1, 254))"
      ],
      "metadata": {
        "id": "rPGzvSse9t4y"
      },
      "execution_count": 4,
      "outputs": []
    },
    {
      "cell_type": "code",
      "source": [
        "def inject_financial_anomalies(records, anomaly_ratio=0.05):\n",
        "    \"\"\"\n",
        "    Inject realistic financial anomalies:\n",
        "    - rapid-fire small transactions (bot login attempts)\n",
        "    - large single transactions\n",
        "    - odd-hour activity\n",
        "    - rare destination IP (suspicious)\n",
        "    \"\"\"\n",
        "    n = int(len(records) * anomaly_ratio)\n",
        "    idxs = random.sample(range(len(records)), n)\n",
        "    for i in idxs:\n",
        "        rec = records[i]\n",
        "        typ = random.choice([\n",
        "            'rapid_transactions', 'large_single_tx', 'odd_hour_activity', 'suspicious_destination'\n",
        "        ])\n",
        "        rec['is_anomaly'] = 1\n",
        "        rec['anomaly_type'] = typ\n",
        "\n",
        "        if typ == 'rapid_transactions':\n",
        "            # many tiny sessions in short time\n",
        "            rec['session_duration'] = random.randint(1, 10)\n",
        "            rec['uplink_volume'] = random.randint(100, 1000)\n",
        "            rec['downlink_volume'] = random.randint(200, 2000)\n",
        "\n",
        "        elif typ == 'large_single_tx':\n",
        "            # one huge data volume (e.g., bulk file download)\n",
        "            rec['downlink_volume'] *= 20\n",
        "            rec['session_duration'] = max(rec['session_duration'], 300)\n",
        "\n",
        "        elif typ == 'odd_hour_activity':\n",
        "            # move to 2-5 AM\n",
        "            t = datetime.strptime(rec['start_time'], \"%Y-%m-%d %H:%M:%S\")\n",
        "            new = t.replace(hour=random.randint(2, 5))\n",
        "            rec['start_time'] = new.strftime(\"%Y-%m-%d %H:%M:%S\")\n",
        "            rec['end_time'] = (new + timedelta(seconds=rec['session_duration'])).strftime(\"%Y-%m-%d %H:%M:%S\")\n",
        "\n",
        "        elif typ == 'suspicious_destination':\n",
        "            rec['dest_ip'] = f\"45.{random.randint(32,63)}.{random.randint(1,254)}.{random.randint(1,254)}\"\n",
        "    return records"
      ],
      "metadata": {
        "id": "Yz7iTEPo9wva"
      },
      "execution_count": 5,
      "outputs": []
    },
    {
      "cell_type": "code",
      "source": [
        "def generate_financial_ipdr_dataset(\n",
        "    num_records=10000,\n",
        "    start_date=\"2024-01-01\",\n",
        "    duration_days=30,\n",
        "    seed=42\n",
        "):\n",
        "    \"\"\"\n",
        "    Generate synthetic Financial/Banking network IPDR dataset:\n",
        "    - Only IPDR-valid columns\n",
        "    - Realistic session durations (~4 min avg)\n",
        "    - Realistic data volumes (small queries & statements)\n",
        "    - Major bank IP ranges for destination\n",
        "    - 5% anomalies injected\n",
        "    \"\"\"\n",
        "    random.seed(seed)\n",
        "    np.random.seed(seed)\n",
        "    start_dt = datetime.strptime(start_date, \"%Y-%m-%d\")\n",
        "\n",
        "    records = []\n",
        "    for _ in range(num_records):\n",
        "        # Session timing\n",
        "        start_time = get_financial_time_pattern(start_dt, duration_days)\n",
        "        # Banking apps often time out after ~4 minutes\n",
        "        session_duration = random.randint(60, 600)  # 1–10 minutes\n",
        "        end_time = start_time + timedelta(seconds=session_duration)\n",
        "\n",
        "        # Data volumes: small query vs statement download\n",
        "        uplink = random.randint(500, 20000)        # 0.5KB–20KB\n",
        "        downlink = random.randint(1000, 50000)     # 1KB–50KB\n",
        "\n",
        "        rec = {\n",
        "            # IPDR fields\n",
        "            \"src_ip\": generate_bank_src_ip(),\n",
        "            \"src_port\": random.randint(1024, 65535),\n",
        "            \"dest_ip\": generate_bank_dest_ip(),\n",
        "            \"dest_port\": random.choice([443, 8443]),   # HTTPS/secure\n",
        "            \"protocol\": \"TCP\",\n",
        "            \"start_time\": start_time.strftime(\"%Y-%m-%d %H:%M:%S\"),\n",
        "            \"end_time\": end_time.strftime(\"%Y-%m-%d %H:%M:%S\"),\n",
        "            \"session_duration\": session_duration,\n",
        "            \"uplink_volume\": uplink,\n",
        "            \"downlink_volume\": downlink,\n",
        "            \"total_volume\": uplink + downlink,\n",
        "            # Labels for testing\n",
        "            \"is_anomaly\": 0,\n",
        "            \"anomaly_type\": \"normal\"\n",
        "        }\n",
        "        records.append(rec)\n",
        "\n",
        "    # Inject anomalies\n",
        "    records = inject_financial_anomalies(records, anomaly_ratio=0.05)\n",
        "\n",
        "    # Build DataFrame and add derived features\n",
        "    df = pd.DataFrame(records)\n",
        "    df['bytes_per_second'] = df['total_volume'] / df['session_duration']\n",
        "    df['hour'] = pd.to_datetime(df['start_time']).dt.hour\n",
        "    df['is_peak_hour'] = df['hour'].between(9, 11) | df['hour'].between(15, 17)\n",
        "    return df\n",
        "\n",
        "if __name__ == \"__main__\":\n",
        "    df_fin = generate_financial_ipdr_dataset(num_records=10000)\n",
        "    print(\"Financial/Banking IPDR Dataset\")\n",
        "    print(\"Total records:\", len(df_fin))\n",
        "    print(\"Anomalies:\", df_fin['is_anomaly'].sum(), f\"({df_fin['is_anomaly'].mean()*100:.1f}%)\")\n",
        "    print(\"Columns:\", df_fin.columns.tolist())\n",
        "    print(df_fin.head())\n",
        "    df_fin.to_csv(\"financial_banking_ipdr_dataset.csv\", index=False)"
      ],
      "metadata": {
        "colab": {
          "base_uri": "https://localhost:8080/"
        },
        "id": "G_wQP8Mu90g2",
        "outputId": "eef4e656-7659-401c-ecc1-93f1619292b8"
      },
      "execution_count": 6,
      "outputs": [
        {
          "output_type": "stream",
          "name": "stdout",
          "text": [
            "Financial/Banking IPDR Dataset\n",
            "Total records: 10000\n",
            "Anomalies: 500 (5.0%)\n",
            "Columns: ['src_ip', 'src_port', 'dest_ip', 'dest_port', 'protocol', 'start_time', 'end_time', 'session_duration', 'uplink_volume', 'downlink_volume', 'total_volume', 'is_anomaly', 'anomaly_type', 'bytes_per_second', 'hour', 'is_peak_hour']\n",
            "           src_ip  src_port          dest_ip  dest_port protocol  \\\n",
            "0  49.174.190.229     36765  103.120.105.152       8443      TCP   \n",
            "1  182.108.57.115     39642  203.171.210.208        443      TCP   \n",
            "2    117.27.24.98      7362  203.171.211.217       8443      TCP   \n",
            "3  182.76.213.161     41559  203.171.211.148        443      TCP   \n",
            "4    49.98.72.117     42684   203.171.211.42       8443      TCP   \n",
            "\n",
            "            start_time             end_time  session_duration  uplink_volume  \\\n",
            "0  2024-01-24 12:17:15  2024-01-24 12:22:03               288           5072   \n",
            "1  2024-01-07 09:14:32  2024-01-07 09:15:59                87          18890   \n",
            "2  2024-01-23 13:27:21  2024-01-23 13:33:05               344           5594   \n",
            "3  2024-01-24 12:29:34  2024-01-24 12:32:41               187          12903   \n",
            "4  2024-01-22 12:14:49  2024-01-22 12:20:45               356           3114   \n",
            "\n",
            "   downlink_volume  total_volume  is_anomaly anomaly_type  bytes_per_second  \\\n",
            "0            49265         54337           0       normal        188.670139   \n",
            "1            14031         32921           0       normal        378.402299   \n",
            "2            15110         20704           0       normal         60.186047   \n",
            "3             6164         19067           0       normal        101.962567   \n",
            "4            16256         19370           0       normal         54.410112   \n",
            "\n",
            "   hour  is_peak_hour  \n",
            "0    12         False  \n",
            "1     9          True  \n",
            "2    13         False  \n",
            "3    12         False  \n",
            "4    12         False  \n"
          ]
        }
      ]
    },
    {
      "cell_type": "code",
      "source": [],
      "metadata": {
        "id": "LJmZify599MJ"
      },
      "execution_count": null,
      "outputs": []
    }
  ]
}