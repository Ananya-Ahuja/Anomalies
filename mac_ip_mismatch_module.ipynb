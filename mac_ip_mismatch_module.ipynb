{
  "nbformat": 4,
  "nbformat_minor": 0,
  "metadata": {
    "colab": {
      "provenance": [],
      "authorship_tag": "ABX9TyNf8T1Kz6zb8vX6FUltKCTU",
      "include_colab_link": true
    },
    "kernelspec": {
      "name": "python3",
      "display_name": "Python 3"
    },
    "language_info": {
      "name": "python"
    }
  },
  "cells": [
    {
      "cell_type": "markdown",
      "metadata": {
        "id": "view-in-github",
        "colab_type": "text"
      },
      "source": [
        "<a href=\"https://colab.research.google.com/github/Ananya-Ahuja/Anomalies/blob/main/mac_ip_mismatch_module.ipynb\" target=\"_parent\"><img src=\"https://colab.research.google.com/assets/colab-badge.svg\" alt=\"Open In Colab\"/></a>"
      ]
    },
    {
      "cell_type": "code",
      "execution_count": null,
      "metadata": {
        "id": "TtdNPGn6vI3D"
      },
      "outputs": [],
      "source": [
        "import pandas as pd\n",
        "from datetime import datetime"
      ]
    },
    {
      "cell_type": "code",
      "source": [
        "def parse_datetime(dt_str):\n",
        "    try:\n",
        "        return datetime.fromisoformat(dt_str)\n",
        "    except Exception:\n",
        "        return pd.NaT"
      ],
      "metadata": {
        "id": "SI1EwrXtvSlC"
      },
      "execution_count": null,
      "outputs": []
    },
    {
      "cell_type": "markdown",
      "source": [
        "### User Input"
      ],
      "metadata": {
        "id": "Q6AMdKbMzXZe"
      }
    },
    {
      "cell_type": "code",
      "source": [
        "# Asking the user to input the firewall logs\n",
        "def load_firewall_log():\n",
        "    file_path = input(\"Enter the path to your firewall log CSV (with mac address): \")\n",
        "    df = pd.read_csv(file_path)\n",
        "    df['Timestamp'] = df['Timestamp'].apply(parse_datetime)\n",
        "    return df"
      ],
      "metadata": {
        "id": "bnCSW0TWvfUL"
      },
      "execution_count": null,
      "outputs": []
    },
    {
      "cell_type": "code",
      "source": [
        "firewall_df = load_firewall_log()"
      ],
      "metadata": {
        "colab": {
          "base_uri": "https://localhost:8080/"
        },
        "id": "luw4Iope8KF0",
        "outputId": "5144a4c9-6aba-4ddb-8e91-684c21483c64"
      },
      "execution_count": null,
      "outputs": [
        {
          "name": "stdout",
          "output_type": "stream",
          "text": [
            "Enter the path to your firewall log CSV (with mac address): /content/enhanced_firewall_log_with_mac.csv\n"
          ]
        }
      ]
    },
    {
      "cell_type": "code",
      "source": [
        "# Asking the user to input the DHCP lease records\n",
        "def load_dhcp_leases():\n",
        "    file_path = input(\"Enter the path to your DHCP lease records CSV: \")\n",
        "    df = pd.read_csv(file_path)\n",
        "    df['Lease Start'] = df['Lease Start'].apply(parse_datetime)\n",
        "    df['Lease End'] = df['Lease End'].apply(parse_datetime)\n",
        "    return df"
      ],
      "metadata": {
        "id": "JtDOBOLpxL2k"
      },
      "execution_count": null,
      "outputs": []
    },
    {
      "cell_type": "code",
      "source": [
        "dhcp_df = load_dhcp_leases()"
      ],
      "metadata": {
        "colab": {
          "base_uri": "https://localhost:8080/"
        },
        "id": "U67T49Rt8LFF",
        "outputId": "cca0df9f-ce69-4026-c1cc-ae0c4922f41c"
      },
      "execution_count": null,
      "outputs": [
        {
          "name": "stdout",
          "output_type": "stream",
          "text": [
            "Enter the path to your DHCP lease records CSV: /content/dhcp_lease_records.csv\n"
          ]
        }
      ]
    },
    {
      "cell_type": "markdown",
      "source": [
        "## Finding expected mac addresses of IP addresses"
      ],
      "metadata": {
        "id": "zuJOI75Xzha3"
      }
    },
    {
      "cell_type": "code",
      "source": [
        "# The following function creates a lookup table (dictionary) from a DataFrame of DHCP lease records.\n",
        "# This lookup will be used to efficiently determine which MAC address was assigned to a given IP address during specific time intervals.\n",
        "def build_lease_lookup(dhcp_df):\n",
        "    lease_dict = {}\n",
        "    for _, row in dhcp_df.iterrows():\n",
        "        ip = row['IP Address']\n",
        "        mac = row['MAC Address']\n",
        "        lease_start = row['Lease Start']\n",
        "        lease_end = row['Lease End']\n",
        "        lease_dict.setdefault(ip, []).append((lease_start, lease_end, mac))\n",
        "    return lease_dict"
      ],
      "metadata": {
        "id": "yVTEo_a-xl-5"
      },
      "execution_count": null,
      "outputs": []
    },
    {
      "cell_type": "code",
      "source": [
        "# This function is used to determine which MAC address is supposed to be using a given IP address at a specific point in time, based on DHCP lease records.\n",
        "def find_expected_mac(ip, timestamp, lease_dict):\n",
        "    if ip not in lease_dict:\n",
        "        return None\n",
        "    for lease_start, lease_end, mac in lease_dict[ip]:\n",
        "        if lease_start <= timestamp <= lease_end:\n",
        "            return mac\n",
        "    return None"
      ],
      "metadata": {
        "id": "SKyyNnVtx4cK"
      },
      "execution_count": null,
      "outputs": []
    },
    {
      "cell_type": "code",
      "source": [
        "# This function compares the observed records of ip and mac and\n",
        "def detect_mac_ip_mismatches(firewall_df, lease_dict):\n",
        "    anomalies = []\n",
        "    for idx, row in firewall_df.iterrows():\n",
        "        ip = row['Source IP']\n",
        "        mac = row['Source MAC']\n",
        "        timestamp = row['Timestamp']\n",
        "        if not mac or pd.isna(timestamp):\n",
        "            continue  # Skip if MAC or timestamp is missing because timestamp is necessary for comparison as DHCP lease records are valid for a particular time\n",
        "        expected_mac = find_expected_mac(ip, timestamp, lease_dict)\n",
        "        if expected_mac and mac.lower() != expected_mac.lower(): # if a mac address is present in the DHCP and it is not equal to the observed mac address\n",
        "            anomaly = row.to_dict()\n",
        "            anomaly['Expected MAC'] = expected_mac\n",
        "            anomalies.append(anomaly)\n",
        "    return pd.DataFrame(anomalies)"
      ],
      "metadata": {
        "id": "B4LVG9Zmx5M3"
      },
      "execution_count": null,
      "outputs": []
    },
    {
      "cell_type": "code",
      "source": [
        "lease_dict = build_lease_lookup(dhcp_df)\n",
        "anomalies_df = detect_mac_ip_mismatches(firewall_df, lease_dict)\n",
        "if not anomalies_df.empty:\n",
        "  anomalies_df.to_csv('mac_ip_mismatch_anomalies.csv', index=False)\n",
        "  print(f\"Flagged {len(anomalies_df)} MAC/IP mismatch events. Results saved to 'mac_ip_mismatch_anomalies.csv'.\")\n",
        "else:\n",
        "  print(\"No MAC/IP mismatches detected.\")"
      ],
      "metadata": {
        "colab": {
          "base_uri": "https://localhost:8080/"
        },
        "id": "lbDUroquqWku",
        "outputId": "bc34fd46-02ac-40a8-8f2f-1508cea27df1"
      },
      "execution_count": null,
      "outputs": [
        {
          "output_type": "stream",
          "name": "stdout",
          "text": [
            "Flagged 7 MAC/IP mismatch events. Results saved to 'mac_ip_mismatch_anomalies.csv'.\n"
          ]
        }
      ]
    }
  ]
}