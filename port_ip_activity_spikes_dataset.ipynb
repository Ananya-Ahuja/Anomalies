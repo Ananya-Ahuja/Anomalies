{
  "nbformat": 4,
  "nbformat_minor": 0,
  "metadata": {
    "colab": {
      "provenance": [],
      "authorship_tag": "ABX9TyM+yxxmkSiqzgSV1Z16VBTL",
      "include_colab_link": true
    },
    "kernelspec": {
      "name": "python3",
      "display_name": "Python 3"
    },
    "language_info": {
      "name": "python"
    }
  },
  "cells": [
    {
      "cell_type": "markdown",
      "metadata": {
        "id": "view-in-github",
        "colab_type": "text"
      },
      "source": [
        "<a href=\"https://colab.research.google.com/github/Ananya-Ahuja/Anomalies/blob/main/port_ip_activity_spikes_dataset.ipynb\" target=\"_parent\"><img src=\"https://colab.research.google.com/assets/colab-badge.svg\" alt=\"Open In Colab\"/></a>"
      ]
    },
    {
      "cell_type": "code",
      "execution_count": null,
      "metadata": {
        "id": "aimegHzKfCyT"
      },
      "outputs": [],
      "source": [
        "import pandas as pd\n",
        "import random\n",
        "from datetime import datetime, timedelta"
      ]
    },
    {
      "cell_type": "markdown",
      "source": [
        "### Helper Functions"
      ],
      "metadata": {
        "id": "qNFFgEytzj9f"
      }
    },
    {
      "cell_type": "code",
      "source": [
        "def random_ip(subnet_prefix='192.168.1.'):\n",
        "    return f\"{subnet_prefix}{random.randint(1, 254)}\""
      ],
      "metadata": {
        "id": "IYRD9rVRzEu1"
      },
      "execution_count": null,
      "outputs": []
    },
    {
      "cell_type": "code",
      "source": [
        "def random_port(common_ports=None):\n",
        "    if common_ports and random.random() < 0.7:\n",
        "        return random.choice(common_ports)\n",
        "    return random.randint(1024, 65535)"
      ],
      "metadata": {
        "id": "adWCGHbQzSX-"
      },
      "execution_count": null,
      "outputs": []
    },
    {
      "cell_type": "code",
      "source": [
        "def random_protocol():\n",
        "    return random.choice(['TCP', 'UDP', 'ICMP'])"
      ],
      "metadata": {
        "id": "BnjaEbfFzX9z"
      },
      "execution_count": null,
      "outputs": []
    },
    {
      "cell_type": "markdown",
      "source": [
        "### Main Function"
      ],
      "metadata": {
        "id": "2RHliwNTzwfU"
      }
    },
    {
      "cell_type": "code",
      "source": [
        "def generate_activity_spikes_dataset_enhanced(num_records=1000, spike_ratio=0.05, burst_length=5):\n",
        "    data = []\n",
        "    base_time = datetime.now()\n",
        "\n",
        "    # Common service ports for realism\n",
        "    common_service_ports = [80, 443, 22, 21, 25, 53, 110, 143, 3389]\n",
        "\n",
        "    # Pool of IPs and ports to simulate repeated connections\n",
        "    ip_pool = [f'192.168.1.{i}' for i in range(1, 21)]  # 20 IPs\n",
        "    port_pool = common_service_ports + [random.randint(1024, 65535) for _ in range(20)]\n",
        "\n",
        "    # Select IPs and ports to cluster spikes\n",
        "    spike_ips = random.sample(ip_pool, k=max(1, int(len(ip_pool)*0.2)))  # 20% of IPs\n",
        "    spike_ports = random.sample(common_service_ports, k=max(1, int(len(common_service_ports)*0.3)))  # 30% of ports\n",
        "\n",
        "    # Plan bursts for spikes\n",
        "    spike_bursts = []\n",
        "    num_bursts = int(num_records * spike_ratio / burst_length)\n",
        "    for _ in range(num_bursts):\n",
        "        start_idx = random.randint(0, num_records - burst_length)\n",
        "        ip = random.choice(spike_ips)\n",
        "        port = random.choice(spike_ports)\n",
        "        spike_bursts.append((start_idx, ip, port))\n",
        "\n",
        "    burst_indices = set()\n",
        "    for start_idx, ip, port in spike_bursts:\n",
        "        burst_indices.update(range(start_idx, start_idx + burst_length))\n",
        "\n",
        "    for i in range(num_records):\n",
        "        timestamp = base_time + timedelta(seconds=i)\n",
        "        in_burst = i in burst_indices\n",
        "\n",
        "        if in_burst:\n",
        "            # Find which burst this index belongs to\n",
        "            burst = next((b for b in spike_bursts if b[0] <= i < b[0] + burst_length), None)\n",
        "            src_ip = burst[1]\n",
        "            dst_ip = random.choice(ip_pool)\n",
        "            src_port = random_port(common_service_ports)\n",
        "            dst_port = burst[2]\n",
        "            # Spike traffic\n",
        "            bytes_sent = random.randint(10000, 50000)\n",
        "            packets = random.randint(100, 500)\n",
        "        else:\n",
        "            # Normal traffic, with realistic patterns and some benign bursts\n",
        "            src_ip = random.choice(ip_pool)\n",
        "            dst_ip = random.choice(ip_pool)\n",
        "            src_port = random_port(common_service_ports)\n",
        "            dst_port = random_port(common_service_ports)\n",
        "            # Occasionally simulate benign burst\n",
        "            if random.random() < 0.02:\n",
        "                bytes_sent = random.randint(2000, 8000)\n",
        "                packets = random.randint(20, 80)\n",
        "            else:\n",
        "                bytes_sent = random.randint(40, 1500)\n",
        "                packets = random.randint(1, 10)\n",
        "\n",
        "        protocol = random_protocol()\n",
        "\n",
        "        data.append({\n",
        "            'Timestamp': timestamp.isoformat(),\n",
        "            'Source IP': src_ip,\n",
        "            'Destination IP': dst_ip,\n",
        "            'Source Port': src_port,\n",
        "            'Destination Port': dst_port,\n",
        "            'Protocol': protocol,\n",
        "            'Bytes': bytes_sent,\n",
        "            'Packets': packets\n",
        "        })\n",
        "\n",
        "    df = pd.DataFrame(data)\n",
        "    return df"
      ],
      "metadata": {
        "id": "f_7EJfV4zaev"
      },
      "execution_count": null,
      "outputs": []
    },
    {
      "cell_type": "code",
      "source": [
        "sample_df = generate_activity_spikes_dataset_enhanced(1000)\n",
        "sample_df.to_csv('port_ip_activity_spikes_dataset.csv', index=False)\n",
        "print(\"Activity spikes dataset saved to port_ip_activity_spikes_dataset_enhanced.csv\")"
      ],
      "metadata": {
        "colab": {
          "base_uri": "https://localhost:8080/"
        },
        "id": "qR12Ukwg0K3H",
        "outputId": "d558a38f-5fda-4cdd-fcf5-9f277818881e"
      },
      "execution_count": null,
      "outputs": [
        {
          "output_type": "stream",
          "name": "stdout",
          "text": [
            "Activity spikes dataset saved to port_ip_activity_spikes_dataset_enhanced.csv\n"
          ]
        }
      ]
    }
  ]
}