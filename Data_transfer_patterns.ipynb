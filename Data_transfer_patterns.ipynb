{
  "nbformat": 4,
  "nbformat_minor": 0,
  "metadata": {
    "colab": {
      "provenance": [],
      "authorship_tag": "ABX9TyMiD7yPLRDLojhk8L1bjea2",
      "include_colab_link": true
    },
    "kernelspec": {
      "name": "python3",
      "display_name": "Python 3"
    },
    "language_info": {
      "name": "python"
    }
  },
  "cells": [
    {
      "cell_type": "markdown",
      "metadata": {
        "id": "view-in-github",
        "colab_type": "text"
      },
      "source": [
        "<a href=\"https://colab.research.google.com/github/Ananya-Ahuja/Anomalyze/blob/ananya_ahuja/Data_transfer_patterns.ipynb\" target=\"_parent\"><img src=\"https://colab.research.google.com/assets/colab-badge.svg\" alt=\"Open In Colab\"/></a>"
      ]
    },
    {
      "cell_type": "markdown",
      "source": [
        "### Pre-processing of Datasets"
      ],
      "metadata": {
        "id": "j2RuHvrQ2c_q"
      }
    },
    {
      "cell_type": "code",
      "source": [
        "import numpy as np\n",
        "import pandas as pd\n",
        "import matplotlib.pyplot as plt\n",
        "import glob\n",
        "from sklearn.preprocessing import StandardScaler\n",
        "from sklearn.ensemble import IsolationForest\n",
        "from sklearn.cluster import KMeans\n",
        "from sklearn.metrics import precision_recall_curve\n",
        "from sklearn.metrics import pairwise_distances_argmin_min, silhouette_score\n",
        "from sklearn.metrics import accuracy_score, precision_score, recall_score, f1_score, classification_report"
      ],
      "metadata": {
        "id": "w9yy6rZRQMAr"
      },
      "execution_count": 1,
      "outputs": []
    },
    {
      "cell_type": "code",
      "execution_count": 2,
      "metadata": {
        "id": "bzwDGK5QfgG2",
        "colab": {
          "base_uri": "https://localhost:8080/"
        },
        "outputId": "f0ebd825-a3e2-4400-9c12-d3b627ff9fa4"
      },
      "outputs": [
        {
          "output_type": "stream",
          "name": "stdout",
          "text": [
            "Combined dataset shape: (70000, 7)\n"
          ]
        },
        {
          "output_type": "stream",
          "name": "stderr",
          "text": [
            "/tmp/ipython-input-2-3702053579.py:32: FutureWarning: The behavior of DataFrame concatenation with empty or all-NA entries is deprecated. In a future version, this will no longer exclude empty or all-NA columns when determining the result dtypes. To retain the old behavior, exclude the relevant entries before the concat operation.\n",
            "  combined_df = pd.concat(df_list, ignore_index=True)\n"
          ]
        }
      ],
      "source": [
        "# Define the folder containing your datasets\n",
        "data_folder = '/content/datasets/'\n",
        "\n",
        "# List of CSV files to combine\n",
        "files = glob.glob(data_folder + '*.csv')\n",
        "\n",
        "# Columns to keep for data transfer pattern models\n",
        "combined_cols = ['uplink_volume', 'downlink_volume', 'total_volume',\n",
        "    'session_duration', 'bytes_per_second', 'uplink_ratio','is_anomaly'\n",
        "]\n",
        "transfer_cols = [\n",
        "    'uplink_volume', 'downlink_volume', 'total_volume',\n",
        "    'session_duration', 'bytes_per_second', 'uplink_ratio'\n",
        "]\n",
        "\n",
        "# Combine datasets, keeping only the relevant columns\n",
        "df_list = []\n",
        "for file in files:\n",
        "    df = pd.read_csv(file, low_memory=False)\n",
        "    # Only keep columns that are present in this file and in transfer_cols\n",
        "    cols_present = [col for col in combined_cols if col in df.columns]\n",
        "    df = df[cols_present]\n",
        "    # Add missing columns as NaN for consistency\n",
        "    for col in transfer_cols:\n",
        "        if col not in df.columns:\n",
        "            df[col] = pd.NA\n",
        "    # Reorder columns\n",
        "    df = df[combined_cols]\n",
        "    df_list.append(df)\n",
        "\n",
        "# Concatenate all dataframes into one\n",
        "combined_df = pd.concat(df_list, ignore_index=True)\n",
        "\n",
        "# Drop rows with missing required values (optional, but recommended)\n",
        "combined_df = combined_df.dropna(subset=['uplink_volume', 'downlink_volume', 'total_volume', 'session_duration'])\n",
        "print(\"Combined dataset shape:\", combined_df.shape)\n",
        "\n",
        "#Creating the Dataframe to put in the model by dropping the is_anomaly column\n",
        "model_df = combined_df.drop(columns=['is_anomaly'])\n",
        "true_labels = combined_df['is_anomaly'].astype(int)"
      ]
    },
    {
      "cell_type": "markdown",
      "source": [
        "### Isolation Forest Model"
      ],
      "metadata": {
        "id": "s4JfYCdq2V6S"
      }
    },
    {
      "cell_type": "code",
      "source": [
        "# Prepare features for modeling\n",
        "features = model_df[transfer_cols].astype(float).fillna(0)\n",
        "scaler = StandardScaler()\n",
        "X_scaled = scaler.fit_transform(features)"
      ],
      "metadata": {
        "id": "u7g4OE1b2Ieh"
      },
      "execution_count": 3,
      "outputs": []
    },
    {
      "cell_type": "markdown",
      "source": [
        "Enhanced Feature Engineering"
      ],
      "metadata": {
        "id": "AIClf5XVk2kT"
      }
    },
    {
      "cell_type": "code",
      "source": [
        "# Add ratio features\n",
        "features['uplink_downlink_ratio'] = features['uplink_volume'] / (features['downlink_volume'] + 1e-8)\n",
        "features['volume_duration_ratio'] = features['total_volume'] / (features['session_duration'] + 1e-8)\n",
        "features['bytes_per_second_normalized'] = features['bytes_per_second'] / (features['total_volume'] + 1e-8)"
      ],
      "metadata": {
        "id": "ORuRZF9lkzSa"
      },
      "execution_count": 4,
      "outputs": []
    },
    {
      "cell_type": "code",
      "source": [
        "# Re-scale with new features\n",
        "X_scaled = scaler.fit_transform(features)"
      ],
      "metadata": {
        "id": "cMiKUcBFk_rH"
      },
      "execution_count": 5,
      "outputs": []
    },
    {
      "cell_type": "markdown",
      "source": [
        "Parameter Tuning for Higher Recall"
      ],
      "metadata": {
        "id": "iiWtUvLxlUz-"
      }
    },
    {
      "cell_type": "code",
      "source": [
        "print(\"Tuning Isolation Forest parameters...\")"
      ],
      "metadata": {
        "colab": {
          "base_uri": "https://localhost:8080/"
        },
        "id": "fSh7zL73lCTU",
        "outputId": "ceec0d2b-5a02-456e-9256-ace84bd96f24"
      },
      "execution_count": 6,
      "outputs": [
        {
          "output_type": "stream",
          "name": "stdout",
          "text": [
            "Tuning Isolation Forest parameters...\n"
          ]
        }
      ]
    },
    {
      "cell_type": "code",
      "source": [
        "# Calculate actual anomaly rate in your data\n",
        "actual_anomaly_rate = combined_df['is_anomaly'].mean()\n",
        "print(f\"Actual anomaly rate in data: {actual_anomaly_rate:.3f}\")"
      ],
      "metadata": {
        "colab": {
          "base_uri": "https://localhost:8080/"
        },
        "id": "MiHwhLsjlee_",
        "outputId": "3b63b9a2-a907-41a8-a8f7-868e851c6890"
      },
      "execution_count": 7,
      "outputs": [
        {
          "output_type": "stream",
          "name": "stdout",
          "text": [
            "Actual anomaly rate in data: 0.050\n"
          ]
        }
      ]
    },
    {
      "cell_type": "code",
      "source": [
        "# Set contamination slightly higher than actual rate\n",
        "contamination_values = [actual_anomaly_rate * 1.2, actual_anomaly_rate * 1.5, actual_anomaly_rate * 2.0]\n",
        "best_recall = 0\n",
        "best_params = {}"
      ],
      "metadata": {
        "id": "PXI6y5mYlgd4"
      },
      "execution_count": 8,
      "outputs": []
    },
    {
      "cell_type": "code",
      "source": [
        "for contamination in contamination_values:\n",
        "    for n_estimators in [200, 300, 500]:\n",
        "        for max_features in [0.5, 0.7, 0.9]:\n",
        "            # Fit Isolation Forest with tuned parameters\n",
        "            iso_forest = IsolationForest(\n",
        "                contamination=contamination,\n",
        "                n_estimators=n_estimators,\n",
        "                max_features=max_features,\n",
        "                random_state=42,\n",
        "                n_jobs=-1  # Use all cores for faster training\n",
        "            )\n",
        "            iso_forest.fit(X_scaled)\n",
        "\n",
        "            # Predict anomalies\n",
        "            iso_pred = iso_forest.predict(X_scaled)\n",
        "            iso_pred_binary = np.where(iso_pred == -1, 1, 0)  # Convert to 1=anomaly, 0=normal\n",
        "\n",
        "            # Calculate recall\n",
        "            recall = recall_score(true_labels, iso_pred_binary)\n",
        "\n",
        "            if recall > best_recall:\n",
        "                best_recall = recall\n",
        "                best_params = {\n",
        "                    'contamination': contamination,\n",
        "                    'n_estimators': n_estimators,\n",
        "                    'max_features': max_features\n",
        "                }"
      ],
      "metadata": {
        "id": "HkahpuJHlki9"
      },
      "execution_count": 9,
      "outputs": []
    },
    {
      "cell_type": "code",
      "source": [
        "print(f\"Best Isolation Forest parameters: {best_params}\")\n",
        "print(f\"Best recall achieved: {best_recall:.3f}\")"
      ],
      "metadata": {
        "colab": {
          "base_uri": "https://localhost:8080/"
        },
        "id": "b4mXE-PBllg7",
        "outputId": "84181ba4-a530-4f6b-dac0-9c49a06419a0"
      },
      "execution_count": 10,
      "outputs": [
        {
          "output_type": "stream",
          "name": "stdout",
          "text": [
            "Best Isolation Forest parameters: {'contamination': np.float64(0.1), 'n_estimators': 500, 'max_features': 0.9}\n",
            "Best recall achieved: 0.372\n"
          ]
        }
      ]
    },
    {
      "cell_type": "markdown",
      "source": [
        "Custom Threshold Tuning"
      ],
      "metadata": {
        "id": "DBvU9ZI_loP9"
      }
    },
    {
      "cell_type": "code",
      "source": [
        "print(\"Applying custom threshold tuning...\")\n",
        "# Fit with best parameters\n",
        "iso_forest = IsolationForest(**best_params, random_state=42)\n",
        "iso_forest.fit(X_scaled)\n",
        "\n",
        "# Get anomaly scores\n",
        "anomaly_scores = iso_forest.decision_function(X_scaled)\n",
        "\n",
        "# Try different percentile thresholds\n",
        "percentile_thresholds = [5, 10, 15, 20, 25]\n",
        "threshold_results = []\n",
        "\n",
        "for percentile in percentile_thresholds:\n",
        "    threshold = np.percentile(anomaly_scores, percentile)\n",
        "    iso_pred_custom = (anomaly_scores < threshold).astype(int)\n",
        "\n",
        "    recall = recall_score(true_labels, iso_pred_custom)\n",
        "    precision = precision_score(true_labels, iso_pred_custom)\n",
        "    f1 = f1_score(true_labels, iso_pred_custom)\n",
        "\n",
        "    threshold_results.append({\n",
        "        'percentile': percentile,\n",
        "        'threshold': threshold,\n",
        "        'recall': recall,\n",
        "        'precision': precision,\n",
        "        'f1': f1\n",
        "    })\n",
        "\n",
        "# Select best threshold based on recall\n",
        "best_threshold_result = max(threshold_results, key=lambda x: x['recall'])\n",
        "print(f\"Best threshold: {best_threshold_result}\")\n",
        "\n",
        "# Apply best threshold\n",
        "best_threshold = best_threshold_result['threshold']\n",
        "model_df['iso_anomaly_score'] = anomaly_scores\n",
        "model_df['iso_anomaly'] = (anomaly_scores < best_threshold).astype(int)"
      ],
      "metadata": {
        "colab": {
          "base_uri": "https://localhost:8080/"
        },
        "id": "dsOSvCKwlsy3",
        "outputId": "15d2ec7b-504b-4b16-bf42-4c94ea4dc4b8"
      },
      "execution_count": 11,
      "outputs": [
        {
          "output_type": "stream",
          "name": "stdout",
          "text": [
            "Applying custom threshold tuning...\n",
            "Best threshold: {'percentile': 25, 'threshold': np.float64(0.06633877941744029), 'recall': 0.5134285714285715, 'precision': 0.10268571428571428, 'f1': 0.17114285714285715}\n"
          ]
        }
      ]
    },
    {
      "cell_type": "code",
      "source": [
        "print(\"Enhanced Isolation Forest anomaly counts:\")\n",
        "print(model_df['iso_anomaly'].value_counts())"
      ],
      "metadata": {
        "colab": {
          "base_uri": "https://localhost:8080/"
        },
        "id": "XAt3whC2l0w-",
        "outputId": "e919a4c8-cb96-4368-c6a8-026ee780130c"
      },
      "execution_count": 12,
      "outputs": [
        {
          "output_type": "stream",
          "name": "stdout",
          "text": [
            "Enhanced Isolation Forest anomaly counts:\n",
            "iso_anomaly\n",
            "0    52500\n",
            "1    17500\n",
            "Name: count, dtype: int64\n"
          ]
        }
      ]
    },
    {
      "cell_type": "markdown",
      "source": [
        "### K-Means Model"
      ],
      "metadata": {
        "id": "rbgS38Mo2tat"
      }
    },
    {
      "cell_type": "markdown",
      "source": [
        "Distance-based anomaly detection with tuned threshold"
      ],
      "metadata": {
        "id": "JcaL5P49mKQi"
      }
    },
    {
      "cell_type": "code",
      "source": [
        "print(\"Method 1: Distance-based approach\")\n",
        "kmeans_distance = KMeans(n_clusters=2, random_state=42, n_init=10)\n",
        "distance_labels = kmeans_distance.fit_predict(X_scaled)\n",
        "\n",
        "# Calculate distances to cluster centers\n",
        "_, distances = pairwise_distances_argmin_min(X_scaled, kmeans_distance.cluster_centers_)"
      ],
      "metadata": {
        "colab": {
          "base_uri": "https://localhost:8080/"
        },
        "id": "F4c-SpPQ2zL4",
        "outputId": "d2db3299-bd0e-429c-c921-ee772661176a"
      },
      "execution_count": 13,
      "outputs": [
        {
          "output_type": "stream",
          "name": "stdout",
          "text": [
            "Method 1: Distance-based approach\n"
          ]
        }
      ]
    },
    {
      "cell_type": "markdown",
      "source": [
        "Systematic Threshold Tuning"
      ],
      "metadata": {
        "id": "Ul43RTJ3mRJs"
      }
    },
    {
      "cell_type": "code",
      "source": [
        "print(\"Tuning distance threshold...\")\n",
        "distance_thresholds = [\n",
        "    distances.mean() + 0.5 * distances.std(),  # More sensitive\n",
        "    distances.mean() + 1.0 * distances.std(),  # Moderately sensitive\n",
        "    distances.mean() + 1.5 * distances.std(),  # Less sensitive\n",
        "    distances.mean() + 2.0 * distances.std()   # Original threshold\n",
        "]\n",
        "\n",
        "best_kmeans_recall = 0\n",
        "best_kmeans_threshold = None\n",
        "threshold_results_kmeans = []\n",
        "\n",
        "for threshold in distance_thresholds:\n",
        "    kmeans_pred = (distances > threshold).astype(int)\n",
        "\n",
        "    recall = recall_score(true_labels, kmeans_pred)\n",
        "    precision = precision_score(true_labels, kmeans_pred)\n",
        "    f1 = f1_score(true_labels, kmeans_pred)\n",
        "\n",
        "    threshold_results_kmeans.append({\n",
        "        'threshold': threshold,\n",
        "        'recall': recall,\n",
        "        'precision': precision,\n",
        "        'f1': f1\n",
        "    })\n",
        "\n",
        "    if recall > best_kmeans_recall:\n",
        "        best_kmeans_recall = recall\n",
        "        best_kmeans_threshold = threshold"
      ],
      "metadata": {
        "colab": {
          "base_uri": "https://localhost:8080/"
        },
        "id": "sMd-OMh1mPJQ",
        "outputId": "99a1a8f2-185f-452c-e65f-fd9272919b80"
      },
      "execution_count": 14,
      "outputs": [
        {
          "output_type": "stream",
          "name": "stdout",
          "text": [
            "Tuning distance threshold...\n"
          ]
        }
      ]
    },
    {
      "cell_type": "code",
      "source": [
        "print(f\"Best K-Means threshold: {best_kmeans_threshold:.4f}\")\n",
        "print(f\"Best K-Means recall: {best_kmeans_recall:.3f}\")\n",
        "# Apply best threshold\n",
        "model_df['kmeans_distance'] = distances\n",
        "model_df['kmeans_anomaly'] = (distances > best_kmeans_threshold).astype(int)"
      ],
      "metadata": {
        "colab": {
          "base_uri": "https://localhost:8080/"
        },
        "id": "fUeK_B_mmYVj",
        "outputId": "f836ec3a-a18e-4fec-d4c3-b5001d2cde19"
      },
      "execution_count": 15,
      "outputs": [
        {
          "output_type": "stream",
          "name": "stdout",
          "text": [
            "Best K-Means threshold: 2.5855\n",
            "Best K-Means recall: 0.375\n"
          ]
        }
      ]
    },
    {
      "cell_type": "markdown",
      "source": [
        "Multi-cluster approach (find optimal k)"
      ],
      "metadata": {
        "id": "x_chzg2smfi_"
      }
    },
    {
      "cell_type": "code",
      "source": [
        "print(\"\\nMethod 2: Multi-cluster approach\")\n",
        "silhouette_scores = []\n",
        "k_values = range(2, 8)\n",
        "\n",
        "for k in k_values:\n",
        "    kmeans_temp = KMeans(n_clusters=k, random_state=42, n_init=10)\n",
        "    cluster_labels = kmeans_temp.fit_predict(X_scaled)\n",
        "    silhouette_avg = silhouette_score(X_scaled, cluster_labels)\n",
        "    silhouette_scores.append((k, silhouette_avg))"
      ],
      "metadata": {
        "colab": {
          "base_uri": "https://localhost:8080/"
        },
        "id": "0WY3YBqfmdNx",
        "outputId": "3fc0eaf1-f628-4ac8-d16e-da3aff3841db"
      },
      "execution_count": 16,
      "outputs": [
        {
          "output_type": "stream",
          "name": "stdout",
          "text": [
            "\n",
            "Method 2: Multi-cluster approach\n"
          ]
        }
      ]
    },
    {
      "cell_type": "code",
      "source": [
        "# Find optimal k\n",
        "optimal_k = max(silhouette_scores, key=lambda x: x[1])[0]\n",
        "print(f\"Optimal number of clusters: {optimal_k}\")\n",
        "\n",
        "# Fit with optimal k\n",
        "kmeans_multi = KMeans(n_clusters=optimal_k, random_state=42, n_init=10)\n",
        "multi_labels = kmeans_multi.fit_predict(X_scaled)"
      ],
      "metadata": {
        "colab": {
          "base_uri": "https://localhost:8080/"
        },
        "id": "mWKBWSYtmkIi",
        "outputId": "d34e2352-7a09-48cf-d4c1-a884c4f08276"
      },
      "execution_count": 17,
      "outputs": [
        {
          "output_type": "stream",
          "name": "stdout",
          "text": [
            "Optimal number of clusters: 2\n"
          ]
        }
      ]
    },
    {
      "cell_type": "code",
      "source": [
        "# Calculate cluster sizes and mark smallest clusters as anomalies\n",
        "cluster_sizes = np.bincount(multi_labels)\n",
        "small_clusters = np.where(cluster_sizes < np.percentile(cluster_sizes, 20))[0]  # Bottom 20% of cluster sizes\n",
        "\n",
        "# Mark points in small clusters as anomalies\n",
        "model_df['kmeans_multi_anomaly'] = np.isin(multi_labels, small_clusters).astype(int)"
      ],
      "metadata": {
        "id": "5OyMlMvdmm03"
      },
      "execution_count": 18,
      "outputs": []
    },
    {
      "cell_type": "code",
      "source": [
        "# Evaluate multi-cluster approach\n",
        "multi_recall = recall_score(true_labels, model_df['kmeans_multi_anomaly'])\n",
        "multi_precision = precision_score(true_labels, model_df['kmeans_multi_anomaly'])\n",
        "multi_f1 = f1_score(true_labels, model_df['kmeans_multi_anomaly'])\n",
        "\n",
        "print(f\"Multi-cluster approach - Recall: {multi_recall:.3f}, Precision: {multi_precision:.3f}, F1: {multi_f1:.3f}\")\n"
      ],
      "metadata": {
        "colab": {
          "base_uri": "https://localhost:8080/"
        },
        "id": "7Dl1_TY6mpK5",
        "outputId": "5a3a0a64-5efc-4aaa-8a1b-6be8fe789cb7"
      },
      "execution_count": 19,
      "outputs": [
        {
          "output_type": "stream",
          "name": "stdout",
          "text": [
            "Multi-cluster approach - Recall: 0.031, Precision: 1.000, F1: 0.060\n"
          ]
        }
      ]
    },
    {
      "cell_type": "code",
      "source": [
        "# Choose the better K-Means approach\n",
        "if multi_recall > best_kmeans_recall:\n",
        "    print(\"Using multi-cluster approach as it has better recall\")\n",
        "    model_df['kmeans_anomaly'] = model_df['kmeans_multi_anomaly']\n",
        "    print(f\"Final K-Means recall: {multi_recall:.3f}\")\n",
        "else:\n",
        "    print(\"Using distance-based approach as it has better recall\")\n",
        "    print(f\"Final K-Means recall: {best_kmeans_recall:.3f}\")\n",
        "\n",
        "print(\"Enhanced K-Means anomaly counts:\")\n",
        "print(model_df['kmeans_anomaly'].value_counts())"
      ],
      "metadata": {
        "colab": {
          "base_uri": "https://localhost:8080/"
        },
        "id": "oV8rSlzAmsLk",
        "outputId": "381bcffb-9c18-4894-e57a-d7175569fb0d"
      },
      "execution_count": 20,
      "outputs": [
        {
          "output_type": "stream",
          "name": "stdout",
          "text": [
            "Using distance-based approach as it has better recall\n",
            "Final K-Means recall: 0.375\n",
            "Enhanced K-Means anomaly counts:\n",
            "kmeans_anomaly\n",
            "0    61914\n",
            "1     8086\n",
            "Name: count, dtype: int64\n"
          ]
        }
      ]
    },
    {
      "cell_type": "markdown",
      "source": [
        "### Ensemble Approach"
      ],
      "metadata": {
        "id": "douxZIwXm6Mt"
      }
    },
    {
      "cell_type": "markdown",
      "source": [
        "OR Logic (flag as anomaly if either model detects it)"
      ],
      "metadata": {
        "id": "_cKOhYfmpUVE"
      }
    },
    {
      "cell_type": "code",
      "source": [
        "model_df['ensemble_or'] = ((model_df['iso_anomaly'] == 1) | (model_df['kmeans_anomaly'] == 1)).astype(int)"
      ],
      "metadata": {
        "id": "1vfY2Hgfm5iA"
      },
      "execution_count": 21,
      "outputs": []
    },
    {
      "cell_type": "markdown",
      "source": [
        "Weighted ensemble based on individual model performance"
      ],
      "metadata": {
        "id": "yb5sOH01pZ0m"
      }
    },
    {
      "cell_type": "code",
      "source": [
        "iso_recall = recall_score(true_labels, model_df['iso_anomaly'])\n",
        "kmeans_recall = recall_score(true_labels, model_df['kmeans_anomaly'])"
      ],
      "metadata": {
        "id": "6fd32zCHpW2f"
      },
      "execution_count": 22,
      "outputs": []
    },
    {
      "cell_type": "code",
      "source": [
        "# Calculate weights based on recall performance\n",
        "total_recall = iso_recall + kmeans_recall\n",
        "iso_weight = iso_recall / total_recall if total_recall > 0 else 0.5\n",
        "kmeans_weight = kmeans_recall / total_recall if total_recall > 0 else 0.5\n",
        "\n",
        "print(f\"Isolation Forest weight: {iso_weight:.3f}\")\n",
        "print(f\"K-Means weight: {kmeans_weight:.3f}\")\n",
        "\n",
        "# Weighted score\n",
        "model_df['ensemble_score'] = (iso_weight * model_df['iso_anomaly'] +\n",
        "                             kmeans_weight * model_df['kmeans_anomaly'])"
      ],
      "metadata": {
        "colab": {
          "base_uri": "https://localhost:8080/"
        },
        "id": "8K9JDTD9phkb",
        "outputId": "82809399-5223-407e-bd65-afa870a8d945"
      },
      "execution_count": 23,
      "outputs": [
        {
          "output_type": "stream",
          "name": "stdout",
          "text": [
            "Isolation Forest weight: 0.578\n",
            "K-Means weight: 0.422\n"
          ]
        }
      ]
    },
    {
      "cell_type": "code",
      "source": [
        "# Different ensemble thresholds\n",
        "ensemble_thresholds = [0.3, 0.4, 0.5, 0.6, 0.7]\n",
        "best_ensemble_recall = 0\n",
        "best_ensemble_threshold = None\n",
        "\n",
        "for threshold in ensemble_thresholds:\n",
        "    ensemble_pred = (model_df['ensemble_score'] > threshold).astype(int)\n",
        "\n",
        "    recall = recall_score(true_labels, ensemble_pred)\n",
        "    precision = precision_score(true_labels, ensemble_pred)\n",
        "    f1 = f1_score(true_labels, ensemble_pred)\n",
        "\n",
        "    print(f\"Ensemble threshold {threshold}: Recall={recall:.3f}, Precision={precision:.3f}, F1={f1:.3f}\")\n",
        "\n",
        "    if recall > best_ensemble_recall:\n",
        "        best_ensemble_recall = recall\n",
        "        best_ensemble_threshold = threshold\n",
        "\n",
        "# Apply best ensemble threshold\n",
        "model_df['ensemble_weighted'] = (model_df['ensemble_score'] > best_ensemble_threshold).astype(int)"
      ],
      "metadata": {
        "colab": {
          "base_uri": "https://localhost:8080/"
        },
        "id": "UXRtGVaDpijN",
        "outputId": "d1327e18-e356-4df7-c574-a8baf3325aaf"
      },
      "execution_count": 24,
      "outputs": [
        {
          "output_type": "stream",
          "name": "stdout",
          "text": [
            "Ensemble threshold 0.3: Recall=0.517, Precision=0.100, F1=0.168\n",
            "Ensemble threshold 0.4: Recall=0.517, Precision=0.100, F1=0.168\n",
            "Ensemble threshold 0.5: Recall=0.513, Precision=0.103, F1=0.171\n",
            "Ensemble threshold 0.6: Recall=0.371, Precision=0.174, F1=0.237\n",
            "Ensemble threshold 0.7: Recall=0.371, Precision=0.174, F1=0.237\n"
          ]
        }
      ]
    },
    {
      "cell_type": "code",
      "source": [
        "# Compare all approaches\n",
        "print(\"\\n=== FINAL COMPARISON ===\")\n",
        "approaches = {\n",
        "    'Isolation Forest': model_df['iso_anomaly'],\n",
        "    'K-Means': model_df['kmeans_anomaly'],\n",
        "    'Ensemble OR': model_df['ensemble_or'],\n",
        "    'Ensemble Weighted': model_df['ensemble_weighted']\n",
        "}\n",
        "\n",
        "for name, predictions in approaches.items():\n",
        "    recall = recall_score(true_labels, predictions)\n",
        "    precision = precision_score(true_labels, predictions)\n",
        "    f1 = f1_score(true_labels, predictions)\n",
        "    print(f\"{name:20} - Recall: {recall:.3f}, Precision: {precision:.3f}, F1: {f1:.3f}\")"
      ],
      "metadata": {
        "colab": {
          "base_uri": "https://localhost:8080/"
        },
        "id": "_JtDQ8ArpxuS",
        "outputId": "df5743cd-3646-4330-de8e-361a223d06d4"
      },
      "execution_count": 25,
      "outputs": [
        {
          "output_type": "stream",
          "name": "stdout",
          "text": [
            "\n",
            "=== FINAL COMPARISON ===\n",
            "Isolation Forest     - Recall: 0.513, Precision: 0.103, F1: 0.171\n",
            "K-Means              - Recall: 0.375, Precision: 0.162, F1: 0.226\n",
            "Ensemble OR          - Recall: 0.517, Precision: 0.100, F1: 0.168\n",
            "Ensemble Weighted    - Recall: 0.517, Precision: 0.100, F1: 0.168\n"
          ]
        }
      ]
    },
    {
      "cell_type": "code",
      "source": [
        "# Select best approach based on recall\n",
        "best_approach = max(approaches.items(), key=lambda x: recall_score(true_labels, x[1]))\n",
        "print(f\"\\nBest approach for recall: {best_approach[0]}\")\n",
        "\n",
        "# Use the best approach as final prediction\n",
        "model_df['final_anomaly'] = best_approach[1]"
      ],
      "metadata": {
        "colab": {
          "base_uri": "https://localhost:8080/"
        },
        "id": "20kr3sYmp2Su",
        "outputId": "618ce1e8-0253-426e-e240-4de850672fc0"
      },
      "execution_count": 26,
      "outputs": [
        {
          "output_type": "stream",
          "name": "stdout",
          "text": [
            "\n",
            "Best approach for recall: Ensemble OR\n"
          ]
        }
      ]
    },
    {
      "cell_type": "markdown",
      "source": [
        "### Testing Both Models"
      ],
      "metadata": {
        "id": "n2P-6xWP5bDr"
      }
    },
    {
      "cell_type": "code",
      "source": [
        "# Convert final predictions to binary format\n",
        "if 'final_anomaly' in model_df.columns:\n",
        "    final_predictions = model_df['final_anomaly'].astype(int)\n",
        "else:\n",
        "    # Use the best individual model if ensemble wasn't created\n",
        "    final_predictions = model_df['iso_anomaly'].astype(int)"
      ],
      "metadata": {
        "id": "UMWIvBZD5eiF"
      },
      "execution_count": 27,
      "outputs": []
    },
    {
      "cell_type": "code",
      "source": [
        "# Calculate all metrics\n",
        "true_labels = combined_df['is_anomaly'].astype(int)\n",
        "final_accuracy = accuracy_score(true_labels, final_predictions)\n",
        "final_precision = precision_score(true_labels, final_predictions)\n",
        "final_recall = recall_score(true_labels, final_predictions)\n",
        "final_f1 = f1_score(true_labels, final_predictions)"
      ],
      "metadata": {
        "id": "ZMhhVEJ55ipK"
      },
      "execution_count": 28,
      "outputs": []
    },
    {
      "cell_type": "code",
      "source": [
        "print(\"=== FINAL MODEL PERFORMANCE ===\")\n",
        "print(f\"Accuracy: {final_accuracy:.3f}\")\n",
        "print(f\"Precision: {final_precision:.3f}\")\n",
        "print(f\"Recall: {final_recall:.3f}\")\n",
        "print(f\"F1 Score: {final_f1:.3f}\")"
      ],
      "metadata": {
        "colab": {
          "base_uri": "https://localhost:8080/"
        },
        "id": "xgc2H-G85kNr",
        "outputId": "5229eae1-e9fc-49bc-af58-03471d0300fe"
      },
      "execution_count": 29,
      "outputs": [
        {
          "output_type": "stream",
          "name": "stdout",
          "text": [
            "=== FINAL MODEL PERFORMANCE ===\n",
            "Accuracy: 0.743\n",
            "Precision: 0.100\n",
            "Recall: 0.517\n",
            "F1 Score: 0.168\n"
          ]
        }
      ]
    },
    {
      "cell_type": "code",
      "source": [
        "print(\"\\n=== FORENSIC-SPECIFIC ANALYSIS ===\")\n",
        "# False negative analysis (critical for forensics)\n",
        "false_negatives = ((true_labels == 1) & (final_predictions == 0)).sum()\n",
        "total_anomalies = (true_labels == 1).sum()\n",
        "false_negative_rate = false_negatives / total_anomalies if total_anomalies > 0 else 0\n",
        "print(f\"False Negatives: {false_negatives}\")\n",
        "print(f\"Total Anomalies: {total_anomalies}\")\n",
        "print(f\"False Negative Rate: {false_negative_rate:.3f}\")\n",
        "print(f\"Anomaly Detection Rate: {1 - false_negative_rate:.3f}\")"
      ],
      "metadata": {
        "colab": {
          "base_uri": "https://localhost:8080/"
        },
        "id": "eHt7pqYgSOIY",
        "outputId": "26a375b8-b962-4fe0-9d02-b535cda4650f"
      },
      "execution_count": 30,
      "outputs": [
        {
          "output_type": "stream",
          "name": "stdout",
          "text": [
            "\n",
            "=== FORENSIC-SPECIFIC ANALYSIS ===\n",
            "False Negatives: 1689\n",
            "Total Anomalies: 3500\n",
            "False Negative Rate: 0.483\n",
            "Anomaly Detection Rate: 0.517\n"
          ]
        }
      ]
    },
    {
      "cell_type": "code",
      "source": [
        "final_df = combined_df.copy()\n",
        "final_df['iso_anomaly'] = model_df['iso_anomaly']\n",
        "final_df['kmeans_anomaly'] = model_df['kmeans_anomaly']\n",
        "final_df['final_anomaly'] = final_predictions"
      ],
      "metadata": {
        "id": "gnnHD7DWrUZW"
      },
      "execution_count": 31,
      "outputs": []
    },
    {
      "cell_type": "code",
      "source": [
        "# Add prediction summary\n",
        "final_df['prediction_summary'] = final_df.apply(\n",
        "    lambda row: 'True_Anomaly' if row['is_anomaly'] == 1 and row['final_anomaly'] == 1\n",
        "    else 'False_Negative' if row['is_anomaly'] == 1 and row['final_anomaly'] == 0\n",
        "    else 'False_Positive' if row['is_anomaly'] == 0 and row['final_anomaly'] == 1\n",
        "    else 'True_Normal', axis=1\n",
        ")"
      ],
      "metadata": {
        "id": "_kGzIUJKrZTc"
      },
      "execution_count": 32,
      "outputs": []
    },
    {
      "cell_type": "code",
      "source": [
        "# Save to CSV\n",
        "final_df.to_csv('/content/enhanced_anomaly_detection_results.csv', index=False)\n",
        "print(\"Enhanced results saved to /content/enhanced_anomaly_detection_results.csv\")"
      ],
      "metadata": {
        "colab": {
          "base_uri": "https://localhost:8080/"
        },
        "id": "eyBpA9TVrcNE",
        "outputId": "13c1f6f6-d039-46df-9929-4c643651ad72"
      },
      "execution_count": 33,
      "outputs": [
        {
          "output_type": "stream",
          "name": "stdout",
          "text": [
            "Enhanced results saved to /content/enhanced_anomaly_detection_results.csv\n"
          ]
        }
      ]
    },
    {
      "cell_type": "code",
      "source": [
        "improvement_factor = final_recall / 0.23 if 0.23 > 0 else 1  # Assuming 0.23 was original ISO recall\n",
        "print(f\"\\nRecall Improvement Factor: {improvement_factor:.2f}x\")"
      ],
      "metadata": {
        "colab": {
          "base_uri": "https://localhost:8080/"
        },
        "id": "MHJyLA8wreCS",
        "outputId": "d2edaa63-ad50-414f-cd49-8615189109cd"
      },
      "execution_count": 34,
      "outputs": [
        {
          "output_type": "stream",
          "name": "stdout",
          "text": [
            "\n",
            "Recall Improvement Factor: 2.25x\n"
          ]
        }
      ]
    },
    {
      "cell_type": "code",
      "source": [
        "precisions, recalls, thresholds = precision_recall_curve(true_labels, anomaly_scores)\n",
        "plt.plot(recalls, precisions, label='Isolation Forest')\n",
        "plt.xlabel('Recall'); plt.ylabel('Precision'); plt.legend(); plt.show()"
      ],
      "metadata": {
        "colab": {
          "base_uri": "https://localhost:8080/",
          "height": 449
        },
        "id": "t_yQo5h-y1gH",
        "outputId": "e5b50b93-b9f9-497d-94ba-5b03b858f5a8"
      },
      "execution_count": 35,
      "outputs": [
        {
          "output_type": "display_data",
          "data": {
            "text/plain": [
              "<Figure size 640x480 with 1 Axes>"
            ],
            "image/png": "[encoded data removed]"
          },
          "metadata": {}
        }
      ]
    }
  ]
}