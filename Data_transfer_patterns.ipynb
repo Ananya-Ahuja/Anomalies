{
  "nbformat": 4,
  "nbformat_minor": 0,
  "metadata": {
    "colab": {
      "provenance": [],
      "authorship_tag": "ABX9TyOt6YTKkXKEPD7GVQI010K8",
      "include_colab_link": true
    },
    "kernelspec": {
      "name": "python3",
      "display_name": "Python 3"
    },
    "language_info": {
      "name": "python"
    }
  },
  "cells": [
    {
      "cell_type": "markdown",
      "metadata": {
        "id": "view-in-github",
        "colab_type": "text"
      },
      "source": [
        "<a href=\"https://colab.research.google.com/github/Ananya-Ahuja/Anomalyze/blob/ananya_ahuja/Data_transfer_patterns.ipynb\" target=\"_parent\"><img src=\"https://colab.research.google.com/assets/colab-badge.svg\" alt=\"Open In Colab\"/></a>"
      ]
    },
    {
      "cell_type": "markdown",
      "source": [
        "### Pre-processing of Datasets"
      ],
      "metadata": {
        "id": "j2RuHvrQ2c_q"
      }
    },
    {
      "cell_type": "code",
      "source": [
        "import pandas as pd\n",
        "import glob"
      ],
      "metadata": {
        "id": "w9yy6rZRQMAr"
      },
      "execution_count": 2,
      "outputs": []
    },
    {
      "cell_type": "markdown",
      "source": [],
      "metadata": {
        "id": "DvdGHkIWR-sF"
      }
    },
    {
      "cell_type": "code",
      "execution_count": 3,
      "metadata": {
        "id": "bzwDGK5QfgG2",
        "colab": {
          "base_uri": "https://localhost:8080/"
        },
        "outputId": "324e4812-acc2-4513-de7f-7eff1a7747bd"
      },
      "outputs": [
        {
          "output_type": "stream",
          "name": "stdout",
          "text": [
            "Combined dataset shape: (70000, 7)\n"
          ]
        },
        {
          "output_type": "stream",
          "name": "stderr",
          "text": [
            "/tmp/ipython-input-3-2041195341.py:32: FutureWarning: The behavior of DataFrame concatenation with empty or all-NA entries is deprecated. In a future version, this will no longer exclude empty or all-NA columns when determining the result dtypes. To retain the old behavior, exclude the relevant entries before the concat operation.\n",
            "  combined_df = pd.concat(df_list, ignore_index=True)\n"
          ]
        }
      ],
      "source": [
        "# Define the folder containing your datasets\n",
        "data_folder = '/content/datasets/'  # Update this path as needed\n",
        "\n",
        "# List of CSV files to combine\n",
        "files = glob.glob(data_folder + '*.csv')\n",
        "\n",
        "# Columns to keep for data transfer pattern models\n",
        "combined_cols = ['uplink_volume', 'downlink_volume', 'total_volume',\n",
        "    'session_duration', 'bytes_per_second', 'uplink_ratio','is_anomaly'\n",
        "]\n",
        "transfer_cols = [\n",
        "    'uplink_volume', 'downlink_volume', 'total_volume',\n",
        "    'session_duration', 'bytes_per_second', 'uplink_ratio'\n",
        "]\n",
        "\n",
        "# Combine datasets, keeping only the relevant columns\n",
        "df_list = []\n",
        "for file in files:\n",
        "    df = pd.read_csv(file, low_memory=False)\n",
        "    # Only keep columns that are present in this file and in transfer_cols\n",
        "    cols_present = [col for col in combined_cols if col in df.columns]\n",
        "    df = df[cols_present]\n",
        "    # Add missing columns as NaN for consistency\n",
        "    for col in transfer_cols:\n",
        "        if col not in df.columns:\n",
        "            df[col] = pd.NA\n",
        "    # Reorder columns\n",
        "    df = df[combined_cols]\n",
        "    df_list.append(df)\n",
        "\n",
        "# Concatenate all dataframes into one\n",
        "combined_df = pd.concat(df_list, ignore_index=True)\n",
        "\n",
        "# Drop rows with missing required values (optional, but recommended)\n",
        "combined_df = combined_df.dropna(subset=['uplink_volume', 'downlink_volume', 'total_volume', 'session_duration'])\n",
        "print(\"Combined dataset shape:\", combined_df.shape)\n",
        "\n",
        "#Creating the Dataframe to put in the model by dropping the is_anomaly column\n",
        "model_df = combined_df.drop(columns=['is_anomaly'])\n"
      ]
    },
    {
      "cell_type": "markdown",
      "source": [
        "### Isolation Forest Model"
      ],
      "metadata": {
        "id": "s4JfYCdq2V6S"
      }
    },
    {
      "cell_type": "code",
      "source": [
        "from sklearn.ensemble import IsolationForest\n",
        "from sklearn.preprocessing import StandardScaler"
      ],
      "metadata": {
        "id": "XJil_FsMQQz9"
      },
      "execution_count": 4,
      "outputs": []
    },
    {
      "cell_type": "code",
      "source": [
        "# Prepare features for modeling\n",
        "features = model_df[transfer_cols].astype(float).fillna(0)\n",
        "scaler = StandardScaler()\n",
        "X_scaled = scaler.fit_transform(features)\n",
        "\n",
        "# Fit Isolation Forest\n",
        "iso_forest = IsolationForest(contamination=0.05, random_state=42)\n",
        "iso_forest.fit(X_scaled)\n",
        "\n",
        "# Predict anomalies and get anomaly scores\n",
        "model_df['iso_anomaly_score'] = iso_forest.decision_function(X_scaled)\n",
        "model_df['iso_anomaly'] = iso_forest.predict(X_scaled)  # -1 = anomaly, 1 = normal\n",
        "\n",
        "# Count anomalies\n",
        "print(\"Isolation Forest anomaly counts:\")\n",
        "print(model_df['iso_anomaly'].value_counts())"
      ],
      "metadata": {
        "colab": {
          "base_uri": "https://localhost:8080/"
        },
        "id": "u7g4OE1b2Ieh",
        "outputId": "433ba694-4028-42e2-f41c-48ea1e6f61d6"
      },
      "execution_count": 5,
      "outputs": [
        {
          "output_type": "stream",
          "name": "stdout",
          "text": [
            "Isolation Forest anomaly counts:\n",
            "iso_anomaly\n",
            " 1    66500\n",
            "-1     3500\n",
            "Name: count, dtype: int64\n"
          ]
        }
      ]
    },
    {
      "cell_type": "markdown",
      "source": [
        "### K-Means Model"
      ],
      "metadata": {
        "id": "rbgS38Mo2tat"
      }
    },
    {
      "cell_type": "code",
      "source": [
        "from sklearn.cluster import KMeans\n",
        "from sklearn.metrics import pairwise_distances_argmin_min"
      ],
      "metadata": {
        "id": "JNNGqHmB2n1i"
      },
      "execution_count": 6,
      "outputs": []
    },
    {
      "cell_type": "code",
      "source": [
        "# K-Means clustering (choose k=2 for normal vs anomaly)\n",
        "kmeans = KMeans(n_clusters=2, random_state=42)\n",
        "model_df['kmeans_label'] = kmeans.fit_predict(X_scaled)\n",
        "\n",
        "# Compute distance to nearest cluster center\n",
        "_, distances = pairwise_distances_argmin_min(X_scaled, kmeans.cluster_centers_)\n",
        "threshold = distances.mean() + 2 * distances.std()  # You may tune this\n",
        "model_df['kmeans_anomaly'] = (distances > threshold).astype(int)\n",
        "\n",
        "print(\"K-Means anomaly counts:\")\n",
        "print(model_df['kmeans_anomaly'].value_counts())"
      ],
      "metadata": {
        "colab": {
          "base_uri": "https://localhost:8080/"
        },
        "id": "F4c-SpPQ2zL4",
        "outputId": "28fd4c5e-8836-4930-d898-b24cea3e0b49"
      },
      "execution_count": 7,
      "outputs": [
        {
          "output_type": "stream",
          "name": "stdout",
          "text": [
            "K-Means anomaly counts:\n",
            "kmeans_anomaly\n",
            "0    68419\n",
            "1     1581\n",
            "Name: count, dtype: int64\n"
          ]
        }
      ]
    },
    {
      "cell_type": "code",
      "source": [
        "combined_df.to_csv('/content/combined_data_transfer_anomaly_results.csv', index=False)\n",
        "print(\"Results saved to /content/combined_data_transfer_anomaly_results.csv\")"
      ],
      "metadata": {
        "colab": {
          "base_uri": "https://localhost:8080/"
        },
        "id": "pYYC4qh320_l",
        "outputId": "f0d18ded-cd86-4511-eeeb-f5bd90d30900"
      },
      "execution_count": 8,
      "outputs": [
        {
          "output_type": "stream",
          "name": "stdout",
          "text": [
            "Results saved to /content/combined_data_transfer_anomaly_results.csv\n"
          ]
        }
      ]
    },
    {
      "cell_type": "markdown",
      "source": [
        "### Testing Both Models"
      ],
      "metadata": {
        "id": "n2P-6xWP5bDr"
      }
    },
    {
      "cell_type": "code",
      "source": [
        "from sklearn.metrics import accuracy_score, precision_score, recall_score, f1_score, classification_report"
      ],
      "metadata": {
        "id": "_NCQ-_Yl24Zy"
      },
      "execution_count": 9,
      "outputs": []
    },
    {
      "cell_type": "code",
      "source": [
        "# Convert Isolation Forest output (-1/1) to binary (1=anomaly, 0=normal)\n",
        "model_df['iso_anomaly_binary'] = model_df['iso_anomaly'].map({1: 0, -1: 1})"
      ],
      "metadata": {
        "id": "UMWIvBZD5eiF"
      },
      "execution_count": 10,
      "outputs": []
    },
    {
      "cell_type": "code",
      "source": [
        "# Prepare ground truth and predictions\n",
        "true_labels = combined_df['is_anomaly'].astype(int)\n",
        "iso_pred = model_df['iso_anomaly_binary']\n",
        "kmeans_pred = model_df['kmeans_anomaly'].astype(int)"
      ],
      "metadata": {
        "id": "ZMhhVEJ55ipK"
      },
      "execution_count": 11,
      "outputs": []
    },
    {
      "cell_type": "code",
      "source": [
        "# Evaluate Isolation Forest\n",
        "iso_accuracy = accuracy_score(true_labels, iso_pred)\n",
        "iso_precision = precision_score(true_labels, iso_pred)\n",
        "iso_recall = recall_score(true_labels, iso_pred)\n",
        "iso_f1 = f1_score(true_labels, iso_pred)\n",
        "iso_report = classification_report(true_labels, iso_pred, target_names=['Normal', 'Anomaly'])"
      ],
      "metadata": {
        "id": "xgc2H-G85kNr"
      },
      "execution_count": 12,
      "outputs": []
    },
    {
      "cell_type": "code",
      "source": [
        "# Evaluate K-Means\n",
        "kmeans_accuracy = accuracy_score(true_labels, kmeans_pred)\n",
        "kmeans_precision = precision_score(true_labels, kmeans_pred)\n",
        "kmeans_recall = recall_score(true_labels, kmeans_pred)\n",
        "kmeans_f1 = f1_score(true_labels, kmeans_pred)\n",
        "kmeans_report = classification_report(true_labels, kmeans_pred, target_names=['Normal', 'Anomaly'])"
      ],
      "metadata": {
        "id": "eHt7pqYgSOIY"
      },
      "execution_count": 13,
      "outputs": []
    },
    {
      "cell_type": "code",
      "source": [
        "print(\"=== Isolation Forest ===\")\n",
        "print(f\"Accuracy: {iso_accuracy:.3f}\")\n",
        "print(f\"Precision: {iso_precision:.3f}\")\n",
        "print(f\"Recall: {iso_recall:.3f}\")\n",
        "print(f\"F1 Score: {iso_f1:.3f}\")\n",
        "print(iso_report)"
      ],
      "metadata": {
        "colab": {
          "base_uri": "https://localhost:8080/"
        },
        "id": "d8Hb7kK7SQAa",
        "outputId": "9a38d817-fd96-470c-d5ed-ed8130f46e5e"
      },
      "execution_count": 14,
      "outputs": [
        {
          "output_type": "stream",
          "name": "stdout",
          "text": [
            "=== Isolation Forest ===\n",
            "Accuracy: 0.923\n",
            "Precision: 0.233\n",
            "Recall: 0.233\n",
            "F1 Score: 0.233\n",
            "              precision    recall  f1-score   support\n",
            "\n",
            "      Normal       0.96      0.96      0.96     66500\n",
            "     Anomaly       0.23      0.23      0.23      3500\n",
            "\n",
            "    accuracy                           0.92     70000\n",
            "   macro avg       0.60      0.60      0.60     70000\n",
            "weighted avg       0.92      0.92      0.92     70000\n",
            "\n"
          ]
        }
      ]
    },
    {
      "cell_type": "code",
      "source": [
        "print(\"=== K-Means ===\")\n",
        "print(f\"Accuracy: {kmeans_accuracy:.3f}\")\n",
        "print(f\"Precision: {kmeans_precision:.3f}\")\n",
        "print(f\"Recall: {kmeans_recall:.3f}\")\n",
        "print(f\"F1 Score: {kmeans_f1:.3f}\")\n",
        "print(kmeans_report)"
      ],
      "metadata": {
        "colab": {
          "base_uri": "https://localhost:8080/"
        },
        "id": "YUW1g18YSRqA",
        "outputId": "39b7f709-00e3-4e16-df2d-5c44290fddab"
      },
      "execution_count": 15,
      "outputs": [
        {
          "output_type": "stream",
          "name": "stdout",
          "text": [
            "=== K-Means ===\n",
            "Accuracy: 0.943\n",
            "Precision: 0.339\n",
            "Recall: 0.153\n",
            "F1 Score: 0.211\n",
            "              precision    recall  f1-score   support\n",
            "\n",
            "      Normal       0.96      0.98      0.97     66500\n",
            "     Anomaly       0.34      0.15      0.21      3500\n",
            "\n",
            "    accuracy                           0.94     70000\n",
            "   macro avg       0.65      0.57      0.59     70000\n",
            "weighted avg       0.93      0.94      0.93     70000\n",
            "\n"
          ]
        }
      ]
    },
    {
      "cell_type": "code",
      "source": [],
      "metadata": {
        "id": "KKXfwnr2SUsg"
      },
      "execution_count": null,
      "outputs": []
    }
  ]
}